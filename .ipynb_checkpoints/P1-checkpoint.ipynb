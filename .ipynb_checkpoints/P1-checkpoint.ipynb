{
 "cells": [
  {
   "cell_type": "code",
   "execution_count": 392,
   "id": "4c828e8d",
   "metadata": {},
   "outputs": [],
   "source": [
    "import numpy as np\n",
    "import matplotlib.pyplot as plt\n",
    "from sklearn.linear_model import LogisticRegression\n",
    "from sklearn.neighbors import KNeighborsClassifier\n",
    "from sklearn.svm import SVC\n",
    "from sklearn.ensemble import RandomForestClassifier\n",
    "from sklearn.cluster import KMeans\n",
    "from sklearn.datasets import load_iris\n",
    "from sklearn.datasets import load_wine\n",
    "from sklearn.datasets import make_moons\n",
    "from sklearn.model_selection import train_test_split"
   ]
  },
  {
   "cell_type": "code",
   "execution_count": 442,
   "id": "5f382c1d",
   "metadata": {},
   "outputs": [],
   "source": [
    "# Data preparation\n",
    "\n",
    "data1 = np.loadtxt('data/synthetic1.data', delimiter=',')\n",
    "X1= data1[:,0:2]\n",
    "y1=data1[:,2]\n",
    "\n",
    "data2 = load_iris()\n",
    "X2= data2.data\n",
    "y2 = data2.target\n",
    "\n",
    "data3 = load_wine()\n",
    "X3 = data3.data\n",
    "y3 = data3.target\n",
    "\n",
    "# Split train and test datasets\n",
    "\n",
    "X1_train,X1_test,y1_train,y1_test = train_test_split(X1,y1,test_size=0.3,random_state=42,stratify=y1)\n",
    "X2_train,X2_test,y2_train,y2_test = train_test_split(X2,y2,test_size=0.3,random_state=42,stratify=y2)\n",
    "X3_train,X3_test,y3_train,y3_test = train_test_split(X3,y3,test_size=0.3,random_state=42,stratify=y3)\n"
   ]
  },
  {
   "cell_type": "code",
   "execution_count": 394,
   "id": "55932a33",
   "metadata": {},
   "outputs": [],
   "source": [
    "def denoise_by_knn(X,y,k,xi):\n",
    "    \n",
    "    indices_to_remove = []\n",
    "    \n",
    "    for i in  range(X.shape[0]):\n",
    "        nearest_points=[]\n",
    "        distances =[]\n",
    "        \n",
    "        # Calculate the distance of the test point from all the points in training set.\n",
    "        for j in range(X.shape[0]):\n",
    "            distance = np.linalg.norm(X[j]-X[i])\n",
    "            distances.append((distance,j))\n",
    "        \n",
    "        #Sort the list and find first k neighbours\n",
    "        distances.sort(key=lambda x: x[0])\n",
    "        \n",
    "        labels = np.zeros(k)\n",
    "        for n in range(k):\n",
    "            nearest_points.append(distances[n])\n",
    "            labels[n] = y[distances[n][1]]\n",
    "        \n",
    "        unique_elements, counts_elements = np.unique(labels, return_counts=True)\n",
    "        \n",
    "        l = counts_elements.shape[0]\n",
    "        \n",
    "        majority_class = 0\n",
    "        majority_count = 0\n",
    "        for m in range(l):\n",
    "            if(counts_elements[m] > majority_count):\n",
    "                majority_count = counts_elements[m]\n",
    "                majority_class = unique_elements[m]\n",
    "        \n",
    "        ignore = True\n",
    "        if(majority_class == y[i] and majority_count >= xi):\n",
    "            ignore = False\n",
    "        \n",
    "        #for m in range(l):\n",
    "        #    if(counts_elements[m] >= xi and unique_elements[m]==y[i]):\n",
    "        #        ignore = False\n",
    "        #        #class_label = unique_elements[m]\n",
    "        #        break\n",
    "        \n",
    "        if(ignore):\n",
    "            indices_to_remove.append(i)\n",
    "    \n",
    "    # Remove the samples for which there is no class having the count of labels >= xi\n",
    "    X_denoised = np.delete(X,indices_to_remove,0)\n",
    "    y_denoised = np.delete(y,indices_to_remove)\n",
    "    \n",
    "    return X_denoised,y_denoised,indices_to_remove\n"
   ]
  },
  {
   "cell_type": "code",
   "execution_count": null,
   "id": "a0f456f5",
   "metadata": {},
   "outputs": [],
   "source": []
  },
  {
   "cell_type": "code",
   "execution_count": 443,
   "id": "01fac452",
   "metadata": {},
   "outputs": [],
   "source": [
    "X1_denoised_knn,y1_denoised_knn,indices = denoise_by_knn(X1_train,y1_train,5,4)"
   ]
  },
  {
   "cell_type": "code",
   "execution_count": 444,
   "id": "0a70c728",
   "metadata": {},
   "outputs": [
    {
     "data": {
      "text/plain": [
       "<matplotlib.collections.PathCollection at 0x1d2bad86f70>"
      ]
     },
     "execution_count": 444,
     "metadata": {},
     "output_type": "execute_result"
    },
    {
     "data": {
      "image/png": "[encoded data removed]",
      "text/plain": [
       "<Figure size 1080x288 with 3 Axes>"
      ]
     },
     "metadata": {
      "needs_background": "light"
     },
     "output_type": "display_data"
    }
   ],
   "source": [
    "fig,ax = plt.subplots(nrows=1,ncols=3,figsize=(15,4)\n",
    "                     )\n",
    "ax[0].scatter(X1_denoised_knn[y1_denoised_knn==0,0],X1_denoised_knn[y1_denoised_knn==0,1])\n",
    "ax[0].scatter(X1_denoised_knn[y1_denoised_knn==1,0],X1_denoised_knn[y1_denoised_knn==1,1])\n",
    "ax[0].scatter(X1_denoised_knn[y1_denoised_knn==2,0],X1_denoised_knn[y1_denoised_knn==2,1])\n",
    "    \n",
    "ax[1].scatter(X1_denoised_knn[y1_denoised_knn==0,0],X1_denoised_knn[y1_denoised_knn==0,1])\n",
    "ax[1].scatter(X1_denoised_knn[y1_denoised_knn==1,0],X1_denoised_knn[y1_denoised_knn==1,1])\n",
    "ax[1].scatter(X1_denoised_knn[y1_denoised_knn==2,0],X1_denoised_knn[y1_denoised_knn==2,1])\n",
    "ax[1].scatter(X1_train[indices,0],\n",
    "          X1_train[indices,1],c='red')\n",
    "    \n",
    "ax[2].scatter(X1_train[y1_train==0,0],X1_train[y1_train==0,1])\n",
    "ax[2].scatter(X1_train[y1_train==1,0],X1_train[y1_train==1,1])\n",
    "ax[2].scatter(X1_train[y1_train==2,0],X1_train[y1_train==2,1])"
   ]
  },
  {
   "cell_type": "code",
   "execution_count": 445,
   "id": "d036ce43",
   "metadata": {},
   "outputs": [],
   "source": [
    "lgr_X1 = LogisticRegression(max_iter=1000)\n",
    "knn_X1 = KNeighborsClassifier(5)\n",
    "svm_X1 = SVC(gamma=2,C=1)\n",
    "rfc_X1 = RandomForestClassifier(max_depth=5,n_estimators=50,max_features=1)\n",
    "\n",
    "lgr_X1_byKnnDenoising = LogisticRegression(max_iter=1000)\n",
    "knn_X1_byKnnDenoising = KNeighborsClassifier(5)\n",
    "svm_X1_byKnnDenoising = SVC(gamma=2,C=1)\n",
    "rfc_X1_byKnnDenoising = RandomForestClassifier(max_depth=5,n_estimators=50,max_features=1)"
   ]
  },
  {
   "cell_type": "code",
   "execution_count": 446,
   "id": "499a6ea9",
   "metadata": {},
   "outputs": [
    {
     "data": {
      "text/html": [
       "<style>#sk-container-id-27 {color: black;background-color: white;}#sk-container-id-27 pre{padding: 0;}#sk-container-id-27 div.sk-toggleable {background-color: white;}#sk-container-id-27 label.sk-toggleable__label {cursor: pointer;display: block;width: 100%;margin-bottom: 0;padding: 0.3em;box-sizing: border-box;text-align: center;}#sk-container-id-27 label.sk-toggleable__label-arrow:before {content: \"▸\";float: left;margin-right: 0.25em;color: #696969;}#sk-container-id-27 label.sk-toggleable__label-arrow:hover:before {color: black;}#sk-container-id-27 div.sk-estimator:hover label.sk-toggleable__label-arrow:before {color: black;}#sk-container-id-27 div.sk-toggleable__content {max-height: 0;max-width: 0;overflow: hidden;text-align: left;background-color: #f0f8ff;}#sk-container-id-27 div.sk-toggleable__content pre {margin: 0.2em;color: black;border-radius: 0.25em;background-color: #f0f8ff;}#sk-container-id-27 input.sk-toggleable__control:checked~div.sk-toggleable__content {max-height: 200px;max-width: 100%;overflow: auto;}#sk-container-id-27 input.sk-toggleable__control:checked~label.sk-toggleable__label-arrow:before {content: \"▾\";}#sk-container-id-27 div.sk-estimator input.sk-toggleable__control:checked~label.sk-toggleable__label {background-color: #d4ebff;}#sk-container-id-27 div.sk-label input.sk-toggleable__control:checked~label.sk-toggleable__label {background-color: #d4ebff;}#sk-container-id-27 input.sk-hidden--visually {border: 0;clip: rect(1px 1px 1px 1px);clip: rect(1px, 1px, 1px, 1px);height: 1px;margin: -1px;overflow: hidden;padding: 0;position: absolute;width: 1px;}#sk-container-id-27 div.sk-estimator {font-family: monospace;background-color: #f0f8ff;border: 1px dotted black;border-radius: 0.25em;box-sizing: border-box;margin-bottom: 0.5em;}#sk-container-id-27 div.sk-estimator:hover {background-color: #d4ebff;}#sk-container-id-27 div.sk-parallel-item::after {content: \"\";width: 100%;border-bottom: 1px solid gray;flex-grow: 1;}#sk-container-id-27 div.sk-label:hover label.sk-toggleable__label {background-color: #d4ebff;}#sk-container-id-27 div.sk-serial::before {content: \"\";position: absolute;border-left: 1px solid gray;box-sizing: border-box;top: 0;bottom: 0;left: 50%;z-index: 0;}#sk-container-id-27 div.sk-serial {display: flex;flex-direction: column;align-items: center;background-color: white;padding-right: 0.2em;padding-left: 0.2em;position: relative;}#sk-container-id-27 div.sk-item {position: relative;z-index: 1;}#sk-container-id-27 div.sk-parallel {display: flex;align-items: stretch;justify-content: center;background-color: white;position: relative;}#sk-container-id-27 div.sk-item::before, #sk-container-id-27 div.sk-parallel-item::before {content: \"\";position: absolute;border-left: 1px solid gray;box-sizing: border-box;top: 0;bottom: 0;left: 50%;z-index: -1;}#sk-container-id-27 div.sk-parallel-item {display: flex;flex-direction: column;z-index: 1;position: relative;background-color: white;}#sk-container-id-27 div.sk-parallel-item:first-child::after {align-self: flex-end;width: 50%;}#sk-container-id-27 div.sk-parallel-item:last-child::after {align-self: flex-start;width: 50%;}#sk-container-id-27 div.sk-parallel-item:only-child::after {width: 0;}#sk-container-id-27 div.sk-dashed-wrapped {border: 1px dashed gray;margin: 0 0.4em 0.5em 0.4em;box-sizing: border-box;padding-bottom: 0.4em;background-color: white;}#sk-container-id-27 div.sk-label label {font-family: monospace;font-weight: bold;display: inline-block;line-height: 1.2em;}#sk-container-id-27 div.sk-label-container {text-align: center;}#sk-container-id-27 div.sk-container {/* jupyter's `normalize.less` sets `[hidden] { display: none; }` but bootstrap.min.css set `[hidden] { display: none !important; }` so we also need the `!important` here to be able to override the default hidden behavior on the sphinx rendered scikit-learn.org. See: https://github.com/scikit-learn/scikit-learn/issues/21755 */display: inline-block !important;position: relative;}#sk-container-id-27 div.sk-text-repr-fallback {display: none;}</style><div id=\"sk-container-id-27\" class=\"sk-top-container\"><div class=\"sk-text-repr-fallback\"><pre>RandomForestClassifier(max_depth=5, max_features=1, n_estimators=50)</pre><b>In a Jupyter environment, please rerun this cell to show the HTML representation or trust the notebook. <br />On GitHub, the HTML representation is unable to render, please try loading this page with nbviewer.org.</b></div><div class=\"sk-container\" hidden><div class=\"sk-item\"><div class=\"sk-estimator sk-toggleable\"><input class=\"sk-toggleable__control sk-hidden--visually\" id=\"sk-estimator-id-27\" type=\"checkbox\" checked><label for=\"sk-estimator-id-27\" class=\"sk-toggleable__label sk-toggleable__label-arrow\">RandomForestClassifier</label><div class=\"sk-toggleable__content\"><pre>RandomForestClassifier(max_depth=5, max_features=1, n_estimators=50)</pre></div></div></div></div></div>"
      ],
      "text/plain": [
       "RandomForestClassifier(max_depth=5, max_features=1, n_estimators=50)"
      ]
     },
     "execution_count": 446,
     "metadata": {},
     "output_type": "execute_result"
    }
   ],
   "source": [
    "lgr_X1.fit(X1_train,y1_train)\n",
    "knn_X1.fit(X1_train,y1_train)\n",
    "svm_X1.fit(X1_train,y1_train)\n",
    "rfc_X1.fit(X1_train,y1_train)"
   ]
  },
  {
   "cell_type": "code",
   "execution_count": 447,
   "id": "bfefc408",
   "metadata": {},
   "outputs": [
    {
     "data": {
      "text/html": [
       "<style>#sk-container-id-28 {color: black;background-color: white;}#sk-container-id-28 pre{padding: 0;}#sk-container-id-28 div.sk-toggleable {background-color: white;}#sk-container-id-28 label.sk-toggleable__label {cursor: pointer;display: block;width: 100%;margin-bottom: 0;padding: 0.3em;box-sizing: border-box;text-align: center;}#sk-container-id-28 label.sk-toggleable__label-arrow:before {content: \"▸\";float: left;margin-right: 0.25em;color: #696969;}#sk-container-id-28 label.sk-toggleable__label-arrow:hover:before {color: black;}#sk-container-id-28 div.sk-estimator:hover label.sk-toggleable__label-arrow:before {color: black;}#sk-container-id-28 div.sk-toggleable__content {max-height: 0;max-width: 0;overflow: hidden;text-align: left;background-color: #f0f8ff;}#sk-container-id-28 div.sk-toggleable__content pre {margin: 0.2em;color: black;border-radius: 0.25em;background-color: #f0f8ff;}#sk-container-id-28 input.sk-toggleable__control:checked~div.sk-toggleable__content {max-height: 200px;max-width: 100%;overflow: auto;}#sk-container-id-28 input.sk-toggleable__control:checked~label.sk-toggleable__label-arrow:before {content: \"▾\";}#sk-container-id-28 div.sk-estimator input.sk-toggleable__control:checked~label.sk-toggleable__label {background-color: #d4ebff;}#sk-container-id-28 div.sk-label input.sk-toggleable__control:checked~label.sk-toggleable__label {background-color: #d4ebff;}#sk-container-id-28 input.sk-hidden--visually {border: 0;clip: rect(1px 1px 1px 1px);clip: rect(1px, 1px, 1px, 1px);height: 1px;margin: -1px;overflow: hidden;padding: 0;position: absolute;width: 1px;}#sk-container-id-28 div.sk-estimator {font-family: monospace;background-color: #f0f8ff;border: 1px dotted black;border-radius: 0.25em;box-sizing: border-box;margin-bottom: 0.5em;}#sk-container-id-28 div.sk-estimator:hover {background-color: #d4ebff;}#sk-container-id-28 div.sk-parallel-item::after {content: \"\";width: 100%;border-bottom: 1px solid gray;flex-grow: 1;}#sk-container-id-28 div.sk-label:hover label.sk-toggleable__label {background-color: #d4ebff;}#sk-container-id-28 div.sk-serial::before {content: \"\";position: absolute;border-left: 1px solid gray;box-sizing: border-box;top: 0;bottom: 0;left: 50%;z-index: 0;}#sk-container-id-28 div.sk-serial {display: flex;flex-direction: column;align-items: center;background-color: white;padding-right: 0.2em;padding-left: 0.2em;position: relative;}#sk-container-id-28 div.sk-item {position: relative;z-index: 1;}#sk-container-id-28 div.sk-parallel {display: flex;align-items: stretch;justify-content: center;background-color: white;position: relative;}#sk-container-id-28 div.sk-item::before, #sk-container-id-28 div.sk-parallel-item::before {content: \"\";position: absolute;border-left: 1px solid gray;box-sizing: border-box;top: 0;bottom: 0;left: 50%;z-index: -1;}#sk-container-id-28 div.sk-parallel-item {display: flex;flex-direction: column;z-index: 1;position: relative;background-color: white;}#sk-container-id-28 div.sk-parallel-item:first-child::after {align-self: flex-end;width: 50%;}#sk-container-id-28 div.sk-parallel-item:last-child::after {align-self: flex-start;width: 50%;}#sk-container-id-28 div.sk-parallel-item:only-child::after {width: 0;}#sk-container-id-28 div.sk-dashed-wrapped {border: 1px dashed gray;margin: 0 0.4em 0.5em 0.4em;box-sizing: border-box;padding-bottom: 0.4em;background-color: white;}#sk-container-id-28 div.sk-label label {font-family: monospace;font-weight: bold;display: inline-block;line-height: 1.2em;}#sk-container-id-28 div.sk-label-container {text-align: center;}#sk-container-id-28 div.sk-container {/* jupyter's `normalize.less` sets `[hidden] { display: none; }` but bootstrap.min.css set `[hidden] { display: none !important; }` so we also need the `!important` here to be able to override the default hidden behavior on the sphinx rendered scikit-learn.org. See: https://github.com/scikit-learn/scikit-learn/issues/21755 */display: inline-block !important;position: relative;}#sk-container-id-28 div.sk-text-repr-fallback {display: none;}</style><div id=\"sk-container-id-28\" class=\"sk-top-container\"><div class=\"sk-text-repr-fallback\"><pre>RandomForestClassifier(max_depth=5, max_features=1, n_estimators=50)</pre><b>In a Jupyter environment, please rerun this cell to show the HTML representation or trust the notebook. <br />On GitHub, the HTML representation is unable to render, please try loading this page with nbviewer.org.</b></div><div class=\"sk-container\" hidden><div class=\"sk-item\"><div class=\"sk-estimator sk-toggleable\"><input class=\"sk-toggleable__control sk-hidden--visually\" id=\"sk-estimator-id-28\" type=\"checkbox\" checked><label for=\"sk-estimator-id-28\" class=\"sk-toggleable__label sk-toggleable__label-arrow\">RandomForestClassifier</label><div class=\"sk-toggleable__content\"><pre>RandomForestClassifier(max_depth=5, max_features=1, n_estimators=50)</pre></div></div></div></div></div>"
      ],
      "text/plain": [
       "RandomForestClassifier(max_depth=5, max_features=1, n_estimators=50)"
      ]
     },
     "execution_count": 447,
     "metadata": {},
     "output_type": "execute_result"
    }
   ],
   "source": [
    "lgr_X1_byKnnDenoising.fit(X1_denoised_knn,y1_denoised_knn)\n",
    "knn_X1_byKnnDenoising.fit(X1_denoised_knn,y1_denoised_knn)\n",
    "svm_X1_byKnnDenoising.fit(X1_denoised_knn,y1_denoised_knn)\n",
    "rfc_X1_byKnnDenoising.fit(X1_denoised_knn,y1_denoised_knn)"
   ]
  },
  {
   "cell_type": "code",
   "execution_count": null,
   "id": "ec43f77f",
   "metadata": {},
   "outputs": [],
   "source": []
  },
  {
   "cell_type": "code",
   "execution_count": 448,
   "id": "0c058a1c",
   "metadata": {},
   "outputs": [],
   "source": [
    "def aniso_dist2(Xc,s,VT,C):\n",
    "    \"\"\" Measure anisotropic distances for data points in a class \"\"\"\n",
    "    AD2 = []\n",
    "    N,d = Xc.shape\n",
    "    for i in range(N):\n",
    "         AD2.append( sum(((Xc[i]-C).dot(VT[j])/s[j])**2 for j in range(d)) )\n",
    "    return np.array(AD2)"
   ]
  },
  {
   "cell_type": "code",
   "execution_count": 449,
   "id": "f1fc9d6d",
   "metadata": {},
   "outputs": [],
   "source": [
    "def denoise_by_pca(X,y,p):\n",
    "    X_list = []\n",
    "    y_list = []\n",
    "    nclass = len(np.unique(y))\n",
    "    for c in range(nclass):\n",
    "        indices_to_remove =[]\n",
    "        Xc = X[y==c]\n",
    "        yc = y[y==c]\n",
    "        CC = np.mean(Xc,axis=0)\n",
    "        U,s,VT = np.linalg.svd(Xc-CC,full_matrices=False)\n",
    "        AD2 = aniso_dist2(Xc,s,VT,CC)\n",
    "        r_max_squared = np.amax(AD2)\n",
    "        \n",
    "        sortIndex = np.argsort(AD2)\n",
    "        Xcs = Xc[sortIndex]\n",
    "        \n",
    "        N = round(p*Xc.shape[0])\n",
    "        X_list.append(Xcs[:N])\n",
    "        y_list.append(yc[:N])\n",
    "        \n",
    "        #for i in range(Xc.shape[0]):\n",
    "        #    #r=0.0\n",
    "        #    #for j in range(Xc.shape[1]):\n",
    "        #    #    ri = ((Xc[i]-CC).dot(VT[j])/s[j])**2\n",
    "        #    #    r += ri\n",
    "        #    #if(np.sqrt(r/r_max_squared) > p):\n",
    "        #    #    indices_to_remove.append(i)\n",
    "        #    if(np.sqrt(AD2[i]/r_max_squared) > p):\n",
    "        #        indices_to_remove.append(i)\n",
    "        #\n",
    "        #new_Xc = np.delete(Xc,indices_to_remove,0)\n",
    "        #new_yc = np.delete(yc,indices_to_remove)\n",
    "        #X_list.append(new_Xc)\n",
    "        #y_list.append(new_yc)\n",
    "        \n",
    "    X_denoised = np.vstack((X_list))\n",
    "    y_denoised = np.hstack((y_list))\n",
    "    \n",
    "    return X_denoised,y_denoised"
   ]
  },
  {
   "cell_type": "code",
   "execution_count": 450,
   "id": "aade0960",
   "metadata": {},
   "outputs": [],
   "source": [
    "X1_denoised_pca,y1_denoised_pca = denoise_by_pca(X1_train,y1_train,0.9)"
   ]
  },
  {
   "cell_type": "code",
   "execution_count": 451,
   "id": "14a17096",
   "metadata": {},
   "outputs": [
    {
     "data": {
      "text/plain": [
       "<matplotlib.collections.PathCollection at 0x1d2bfebddc0>"
      ]
     },
     "execution_count": 451,
     "metadata": {},
     "output_type": "execute_result"
    },
    {
     "data": {
      "image/png": "[encoded data removed]",
      "text/plain": [
       "<Figure size 720x288 with 2 Axes>"
      ]
     },
     "metadata": {
      "needs_background": "light"
     },
     "output_type": "display_data"
    }
   ],
   "source": [
    "fig,ax = plt.subplots(nrows=1,ncols=2,figsize=(10,4)\n",
    "                     )\n",
    "ax[0].scatter(X1_denoised_pca[y1_denoised_pca==0,0],X1_denoised_pca[y1_denoised_pca==0,1])\n",
    "ax[0].scatter(X1_denoised_pca[y1_denoised_pca==1,0],X1_denoised_pca[y1_denoised_pca==1,1])\n",
    "ax[0].scatter(X1_denoised_pca[y1_denoised_pca==2,0],X1_denoised_pca[y1_denoised_pca==2,1])\n",
    "    \n",
    "ax[1].scatter(X1_train[y1_train==0,0],X1_train[y1_train==0,1])\n",
    "ax[1].scatter(X1_train[y1_train==1,0],X1_train[y1_train==1,1])\n",
    "ax[1].scatter(X1_train[y1_train==2,0],X1_train[y1_train==2,1])"
   ]
  },
  {
   "cell_type": "code",
   "execution_count": 452,
   "id": "8e4ec5b2",
   "metadata": {},
   "outputs": [],
   "source": [
    "lgr_X1_byPcaDenoising = LogisticRegression(max_iter=1000)\n",
    "knn_X1_byPcaDenoising = KNeighborsClassifier(5)\n",
    "svm_X1_byPcaDenoising = SVC(gamma=2,C=1)\n",
    "rfc_X1_byPcaDenoising = RandomForestClassifier(max_depth=5,n_estimators=50,max_features=1)"
   ]
  },
  {
   "cell_type": "code",
   "execution_count": 453,
   "id": "b0e443b4",
   "metadata": {},
   "outputs": [
    {
     "data": {
      "text/html": [
       "<style>#sk-container-id-29 {color: black;background-color: white;}#sk-container-id-29 pre{padding: 0;}#sk-container-id-29 div.sk-toggleable {background-color: white;}#sk-container-id-29 label.sk-toggleable__label {cursor: pointer;display: block;width: 100%;margin-bottom: 0;padding: 0.3em;box-sizing: border-box;text-align: center;}#sk-container-id-29 label.sk-toggleable__label-arrow:before {content: \"▸\";float: left;margin-right: 0.25em;color: #696969;}#sk-container-id-29 label.sk-toggleable__label-arrow:hover:before {color: black;}#sk-container-id-29 div.sk-estimator:hover label.sk-toggleable__label-arrow:before {color: black;}#sk-container-id-29 div.sk-toggleable__content {max-height: 0;max-width: 0;overflow: hidden;text-align: left;background-color: #f0f8ff;}#sk-container-id-29 div.sk-toggleable__content pre {margin: 0.2em;color: black;border-radius: 0.25em;background-color: #f0f8ff;}#sk-container-id-29 input.sk-toggleable__control:checked~div.sk-toggleable__content {max-height: 200px;max-width: 100%;overflow: auto;}#sk-container-id-29 input.sk-toggleable__control:checked~label.sk-toggleable__label-arrow:before {content: \"▾\";}#sk-container-id-29 div.sk-estimator input.sk-toggleable__control:checked~label.sk-toggleable__label {background-color: #d4ebff;}#sk-container-id-29 div.sk-label input.sk-toggleable__control:checked~label.sk-toggleable__label {background-color: #d4ebff;}#sk-container-id-29 input.sk-hidden--visually {border: 0;clip: rect(1px 1px 1px 1px);clip: rect(1px, 1px, 1px, 1px);height: 1px;margin: -1px;overflow: hidden;padding: 0;position: absolute;width: 1px;}#sk-container-id-29 div.sk-estimator {font-family: monospace;background-color: #f0f8ff;border: 1px dotted black;border-radius: 0.25em;box-sizing: border-box;margin-bottom: 0.5em;}#sk-container-id-29 div.sk-estimator:hover {background-color: #d4ebff;}#sk-container-id-29 div.sk-parallel-item::after {content: \"\";width: 100%;border-bottom: 1px solid gray;flex-grow: 1;}#sk-container-id-29 div.sk-label:hover label.sk-toggleable__label {background-color: #d4ebff;}#sk-container-id-29 div.sk-serial::before {content: \"\";position: absolute;border-left: 1px solid gray;box-sizing: border-box;top: 0;bottom: 0;left: 50%;z-index: 0;}#sk-container-id-29 div.sk-serial {display: flex;flex-direction: column;align-items: center;background-color: white;padding-right: 0.2em;padding-left: 0.2em;position: relative;}#sk-container-id-29 div.sk-item {position: relative;z-index: 1;}#sk-container-id-29 div.sk-parallel {display: flex;align-items: stretch;justify-content: center;background-color: white;position: relative;}#sk-container-id-29 div.sk-item::before, #sk-container-id-29 div.sk-parallel-item::before {content: \"\";position: absolute;border-left: 1px solid gray;box-sizing: border-box;top: 0;bottom: 0;left: 50%;z-index: -1;}#sk-container-id-29 div.sk-parallel-item {display: flex;flex-direction: column;z-index: 1;position: relative;background-color: white;}#sk-container-id-29 div.sk-parallel-item:first-child::after {align-self: flex-end;width: 50%;}#sk-container-id-29 div.sk-parallel-item:last-child::after {align-self: flex-start;width: 50%;}#sk-container-id-29 div.sk-parallel-item:only-child::after {width: 0;}#sk-container-id-29 div.sk-dashed-wrapped {border: 1px dashed gray;margin: 0 0.4em 0.5em 0.4em;box-sizing: border-box;padding-bottom: 0.4em;background-color: white;}#sk-container-id-29 div.sk-label label {font-family: monospace;font-weight: bold;display: inline-block;line-height: 1.2em;}#sk-container-id-29 div.sk-label-container {text-align: center;}#sk-container-id-29 div.sk-container {/* jupyter's `normalize.less` sets `[hidden] { display: none; }` but bootstrap.min.css set `[hidden] { display: none !important; }` so we also need the `!important` here to be able to override the default hidden behavior on the sphinx rendered scikit-learn.org. See: https://github.com/scikit-learn/scikit-learn/issues/21755 */display: inline-block !important;position: relative;}#sk-container-id-29 div.sk-text-repr-fallback {display: none;}</style><div id=\"sk-container-id-29\" class=\"sk-top-container\"><div class=\"sk-text-repr-fallback\"><pre>RandomForestClassifier(max_depth=5, max_features=1, n_estimators=50)</pre><b>In a Jupyter environment, please rerun this cell to show the HTML representation or trust the notebook. <br />On GitHub, the HTML representation is unable to render, please try loading this page with nbviewer.org.</b></div><div class=\"sk-container\" hidden><div class=\"sk-item\"><div class=\"sk-estimator sk-toggleable\"><input class=\"sk-toggleable__control sk-hidden--visually\" id=\"sk-estimator-id-29\" type=\"checkbox\" checked><label for=\"sk-estimator-id-29\" class=\"sk-toggleable__label sk-toggleable__label-arrow\">RandomForestClassifier</label><div class=\"sk-toggleable__content\"><pre>RandomForestClassifier(max_depth=5, max_features=1, n_estimators=50)</pre></div></div></div></div></div>"
      ],
      "text/plain": [
       "RandomForestClassifier(max_depth=5, max_features=1, n_estimators=50)"
      ]
     },
     "execution_count": 453,
     "metadata": {},
     "output_type": "execute_result"
    }
   ],
   "source": [
    "lgr_X1_byPcaDenoising.fit(X1_denoised_pca,y1_denoised_pca)\n",
    "knn_X1_byPcaDenoising.fit(X1_denoised_pca,y1_denoised_pca)\n",
    "svm_X1_byPcaDenoising.fit(X1_denoised_pca,y1_denoised_pca)\n",
    "rfc_X1_byPcaDenoising.fit(X1_denoised_pca,y1_denoised_pca)"
   ]
  },
  {
   "cell_type": "code",
   "execution_count": 454,
   "id": "fb2875b9",
   "metadata": {},
   "outputs": [
    {
     "data": {
      "text/plain": [
       "(0.9444444444444444, 0.9444444444444444, 0.9222222222222223)"
      ]
     },
     "execution_count": 454,
     "metadata": {},
     "output_type": "execute_result"
    }
   ],
   "source": [
    "lgr_X1.score(X1_test,y1_test),lgr_X1_byKnnDenoising.score(X1_test,y1_test),lgr_X1_byPcaDenoising.score(X1_test,y1_test)"
   ]
  },
  {
   "cell_type": "code",
   "execution_count": 455,
   "id": "b3b16d94",
   "metadata": {},
   "outputs": [
    {
     "data": {
      "text/plain": [
       "(0.9333333333333333, 0.9333333333333333, 0.9444444444444444)"
      ]
     },
     "execution_count": 455,
     "metadata": {},
     "output_type": "execute_result"
    }
   ],
   "source": [
    "knn_X1.score(X1_test,y1_test),knn_X1_byKnnDenoising.score(X1_test,y1_test),knn_X1_byPcaDenoising.score(X1_test,y1_test)"
   ]
  },
  {
   "cell_type": "code",
   "execution_count": 456,
   "id": "f76d30d3",
   "metadata": {},
   "outputs": [
    {
     "data": {
      "text/plain": [
       "(0.9333333333333333, 0.9444444444444444, 0.9444444444444444)"
      ]
     },
     "execution_count": 456,
     "metadata": {},
     "output_type": "execute_result"
    }
   ],
   "source": [
    "svm_X1.score(X1_test,y1_test),svm_X1_byKnnDenoising.score(X1_test,y1_test),svm_X1_byPcaDenoising.score(X1_test,y1_test)"
   ]
  },
  {
   "cell_type": "code",
   "execution_count": 457,
   "id": "23e364d8",
   "metadata": {},
   "outputs": [
    {
     "data": {
      "text/plain": [
       "(0.9222222222222223, 0.9444444444444444, 0.9222222222222223)"
      ]
     },
     "execution_count": 457,
     "metadata": {},
     "output_type": "execute_result"
    }
   ],
   "source": [
    "rfc_X1.score(X1_test,y1_test),rfc_X1_byKnnDenoising.score(X1_test,y1_test),rfc_X1_byPcaDenoising.score(X1_test,y1_test)"
   ]
  },
  {
   "cell_type": "markdown",
   "id": "66aec51d",
   "metadata": {},
   "source": [
    "### For Dataset 2 - Iris Data"
   ]
  },
  {
   "cell_type": "code",
   "execution_count": 458,
   "id": "74a7959d",
   "metadata": {},
   "outputs": [],
   "source": [
    "X2_denoised_knn,y2_denoised_knn,indices2 = denoise_by_knn(X2_train,y2_train,5,4)\n",
    "X2_denoised_pca,y2_denoised_pca = denoise_by_pca(X2_train,y2_train,0.9)"
   ]
  },
  {
   "cell_type": "code",
   "execution_count": 459,
   "id": "3ae0b6fb",
   "metadata": {},
   "outputs": [],
   "source": [
    "lgr_X2 = LogisticRegression(max_iter=1000)\n",
    "knn_X2 = KNeighborsClassifier(5)\n",
    "svm_X2 = SVC(gamma=2,C=1)\n",
    "rfc_X2 = RandomForestClassifier(max_depth=5,n_estimators=50,max_features=1)\n",
    "\n",
    "lgr_X2_byKnnDenoising = LogisticRegression(max_iter=1000)\n",
    "knn_X2_byKnnDenoising = KNeighborsClassifier(5)\n",
    "svm_X2_byKnnDenoising = SVC(gamma=2,C=1)\n",
    "rfc_X2_byKnnDenoising = RandomForestClassifier(max_depth=5,n_estimators=50,max_features=1)\n",
    "\n",
    "lgr_X2_byPcaDenoising = LogisticRegression(max_iter=1000)\n",
    "knn_X2_byPcaDenoising = KNeighborsClassifier(5)\n",
    "svm_X2_byPcaDenoising = SVC(gamma=2,C=1)\n",
    "rfc_X2_byPcaDenoising = RandomForestClassifier(max_depth=5,n_estimators=50,max_features=1)"
   ]
  },
  {
   "cell_type": "code",
   "execution_count": 460,
   "id": "b627ec39",
   "metadata": {},
   "outputs": [
    {
     "data": {
      "text/html": [
       "<style>#sk-container-id-30 {color: black;background-color: white;}#sk-container-id-30 pre{padding: 0;}#sk-container-id-30 div.sk-toggleable {background-color: white;}#sk-container-id-30 label.sk-toggleable__label {cursor: pointer;display: block;width: 100%;margin-bottom: 0;padding: 0.3em;box-sizing: border-box;text-align: center;}#sk-container-id-30 label.sk-toggleable__label-arrow:before {content: \"▸\";float: left;margin-right: 0.25em;color: #696969;}#sk-container-id-30 label.sk-toggleable__label-arrow:hover:before {color: black;}#sk-container-id-30 div.sk-estimator:hover label.sk-toggleable__label-arrow:before {color: black;}#sk-container-id-30 div.sk-toggleable__content {max-height: 0;max-width: 0;overflow: hidden;text-align: left;background-color: #f0f8ff;}#sk-container-id-30 div.sk-toggleable__content pre {margin: 0.2em;color: black;border-radius: 0.25em;background-color: #f0f8ff;}#sk-container-id-30 input.sk-toggleable__control:checked~div.sk-toggleable__content {max-height: 200px;max-width: 100%;overflow: auto;}#sk-container-id-30 input.sk-toggleable__control:checked~label.sk-toggleable__label-arrow:before {content: \"▾\";}#sk-container-id-30 div.sk-estimator input.sk-toggleable__control:checked~label.sk-toggleable__label {background-color: #d4ebff;}#sk-container-id-30 div.sk-label input.sk-toggleable__control:checked~label.sk-toggleable__label {background-color: #d4ebff;}#sk-container-id-30 input.sk-hidden--visually {border: 0;clip: rect(1px 1px 1px 1px);clip: rect(1px, 1px, 1px, 1px);height: 1px;margin: -1px;overflow: hidden;padding: 0;position: absolute;width: 1px;}#sk-container-id-30 div.sk-estimator {font-family: monospace;background-color: #f0f8ff;border: 1px dotted black;border-radius: 0.25em;box-sizing: border-box;margin-bottom: 0.5em;}#sk-container-id-30 div.sk-estimator:hover {background-color: #d4ebff;}#sk-container-id-30 div.sk-parallel-item::after {content: \"\";width: 100%;border-bottom: 1px solid gray;flex-grow: 1;}#sk-container-id-30 div.sk-label:hover label.sk-toggleable__label {background-color: #d4ebff;}#sk-container-id-30 div.sk-serial::before {content: \"\";position: absolute;border-left: 1px solid gray;box-sizing: border-box;top: 0;bottom: 0;left: 50%;z-index: 0;}#sk-container-id-30 div.sk-serial {display: flex;flex-direction: column;align-items: center;background-color: white;padding-right: 0.2em;padding-left: 0.2em;position: relative;}#sk-container-id-30 div.sk-item {position: relative;z-index: 1;}#sk-container-id-30 div.sk-parallel {display: flex;align-items: stretch;justify-content: center;background-color: white;position: relative;}#sk-container-id-30 div.sk-item::before, #sk-container-id-30 div.sk-parallel-item::before {content: \"\";position: absolute;border-left: 1px solid gray;box-sizing: border-box;top: 0;bottom: 0;left: 50%;z-index: -1;}#sk-container-id-30 div.sk-parallel-item {display: flex;flex-direction: column;z-index: 1;position: relative;background-color: white;}#sk-container-id-30 div.sk-parallel-item:first-child::after {align-self: flex-end;width: 50%;}#sk-container-id-30 div.sk-parallel-item:last-child::after {align-self: flex-start;width: 50%;}#sk-container-id-30 div.sk-parallel-item:only-child::after {width: 0;}#sk-container-id-30 div.sk-dashed-wrapped {border: 1px dashed gray;margin: 0 0.4em 0.5em 0.4em;box-sizing: border-box;padding-bottom: 0.4em;background-color: white;}#sk-container-id-30 div.sk-label label {font-family: monospace;font-weight: bold;display: inline-block;line-height: 1.2em;}#sk-container-id-30 div.sk-label-container {text-align: center;}#sk-container-id-30 div.sk-container {/* jupyter's `normalize.less` sets `[hidden] { display: none; }` but bootstrap.min.css set `[hidden] { display: none !important; }` so we also need the `!important` here to be able to override the default hidden behavior on the sphinx rendered scikit-learn.org. See: https://github.com/scikit-learn/scikit-learn/issues/21755 */display: inline-block !important;position: relative;}#sk-container-id-30 div.sk-text-repr-fallback {display: none;}</style><div id=\"sk-container-id-30\" class=\"sk-top-container\"><div class=\"sk-text-repr-fallback\"><pre>RandomForestClassifier(max_depth=5, max_features=1, n_estimators=50)</pre><b>In a Jupyter environment, please rerun this cell to show the HTML representation or trust the notebook. <br />On GitHub, the HTML representation is unable to render, please try loading this page with nbviewer.org.</b></div><div class=\"sk-container\" hidden><div class=\"sk-item\"><div class=\"sk-estimator sk-toggleable\"><input class=\"sk-toggleable__control sk-hidden--visually\" id=\"sk-estimator-id-30\" type=\"checkbox\" checked><label for=\"sk-estimator-id-30\" class=\"sk-toggleable__label sk-toggleable__label-arrow\">RandomForestClassifier</label><div class=\"sk-toggleable__content\"><pre>RandomForestClassifier(max_depth=5, max_features=1, n_estimators=50)</pre></div></div></div></div></div>"
      ],
      "text/plain": [
       "RandomForestClassifier(max_depth=5, max_features=1, n_estimators=50)"
      ]
     },
     "execution_count": 460,
     "metadata": {},
     "output_type": "execute_result"
    }
   ],
   "source": [
    "lgr_X2.fit(X2_train,y2_train)\n",
    "knn_X2.fit(X2_train,y2_train)\n",
    "svm_X2.fit(X2_train,y2_train)\n",
    "rfc_X2.fit(X2_train,y2_train)\n",
    "\n",
    "lgr_X2_byKnnDenoising.fit(X2_denoised_knn,y2_denoised_knn)\n",
    "knn_X2_byKnnDenoising.fit(X2_denoised_knn,y2_denoised_knn)\n",
    "svm_X2_byKnnDenoising.fit(X2_denoised_knn,y2_denoised_knn)\n",
    "rfc_X2_byKnnDenoising.fit(X2_denoised_knn,y2_denoised_knn)\n",
    "\n",
    "lgr_X2_byPcaDenoising.fit(X2_denoised_pca,y2_denoised_pca)\n",
    "knn_X2_byPcaDenoising.fit(X2_denoised_pca,y2_denoised_pca)\n",
    "svm_X2_byPcaDenoising.fit(X2_denoised_pca,y2_denoised_pca)\n",
    "rfc_X2_byPcaDenoising.fit(X2_denoised_pca,y2_denoised_pca)"
   ]
  },
  {
   "cell_type": "code",
   "execution_count": 461,
   "id": "02d2d6bc",
   "metadata": {},
   "outputs": [
    {
     "data": {
      "text/plain": [
       "(0.9333333333333333, 0.9333333333333333, 0.9555555555555556)"
      ]
     },
     "execution_count": 461,
     "metadata": {},
     "output_type": "execute_result"
    }
   ],
   "source": [
    "lgr_X2.score(X2_test,y2_test),lgr_X2_byKnnDenoising.score(X2_test,y2_test),lgr_X2_byPcaDenoising.score(X2_test,y2_test)\n"
   ]
  },
  {
   "cell_type": "code",
   "execution_count": 462,
   "id": "a2d197c2",
   "metadata": {},
   "outputs": [
    {
     "data": {
      "text/plain": [
       "(0.9777777777777777, 0.9555555555555556, 0.9777777777777777)"
      ]
     },
     "execution_count": 462,
     "metadata": {},
     "output_type": "execute_result"
    }
   ],
   "source": [
    "knn_X2.score(X2_test,y2_test),knn_X2_byKnnDenoising.score(X2_test,y2_test),knn_X2_byPcaDenoising.score(X2_test,y2_test)"
   ]
  },
  {
   "cell_type": "code",
   "execution_count": 463,
   "id": "f08d91a0",
   "metadata": {},
   "outputs": [
    {
     "data": {
      "text/plain": [
       "(0.9777777777777777, 0.9777777777777777, 0.9555555555555556)"
      ]
     },
     "execution_count": 463,
     "metadata": {},
     "output_type": "execute_result"
    }
   ],
   "source": [
    "svm_X2.score(X2_test,y2_test),svm_X2_byKnnDenoising.score(X2_test,y2_test),svm_X2_byPcaDenoising.score(X2_test,y2_test)"
   ]
  },
  {
   "cell_type": "code",
   "execution_count": 464,
   "id": "1779f7f6",
   "metadata": {},
   "outputs": [
    {
     "data": {
      "text/plain": [
       "(0.8888888888888888, 0.9333333333333333, 0.9111111111111111)"
      ]
     },
     "execution_count": 464,
     "metadata": {},
     "output_type": "execute_result"
    }
   ],
   "source": [
    "rfc_X2.score(X2_test,y2_test),rfc_X2_byKnnDenoising.score(X2_test,y2_test),rfc_X2_byPcaDenoising.score(X2_test,y2_test)"
   ]
  },
  {
   "cell_type": "markdown",
   "id": "6e16e2ab",
   "metadata": {},
   "source": [
    "### For Dataset 3 - Wine Data"
   ]
  },
  {
   "cell_type": "code",
   "execution_count": 465,
   "id": "b54d47ce",
   "metadata": {},
   "outputs": [],
   "source": [
    "X3_denoised_knn,y3_denoised_knn,indices3 = denoise_by_knn(X3_train,y3_train,5,4)\n",
    "X3_denoised_pca,y3_denoised_pca = denoise_by_pca(X3_train,y3_train,0.9)"
   ]
  },
  {
   "cell_type": "code",
   "execution_count": 466,
   "id": "7747692b",
   "metadata": {},
   "outputs": [],
   "source": [
    "lgr_X3 = LogisticRegression(max_iter=10000)\n",
    "knn_X3 = KNeighborsClassifier(5)\n",
    "svm_X3 = SVC(gamma=2,C=1)\n",
    "rfc_X3 = RandomForestClassifier(max_depth=5,n_estimators=50,max_features=1)\n",
    "\n",
    "lgr_X3_byKnnDenoising = LogisticRegression(max_iter=10000)\n",
    "knn_X3_byKnnDenoising = KNeighborsClassifier(5)\n",
    "svm_X3_byKnnDenoising = SVC(gamma=2,C=1)\n",
    "rfc_X3_byKnnDenoising = RandomForestClassifier(max_depth=5,n_estimators=50,max_features=1)\n",
    "\n",
    "lgr_X3_byPcaDenoising = LogisticRegression(max_iter=10000)\n",
    "knn_X3_byPcaDenoising = KNeighborsClassifier(5)\n",
    "svm_X3_byPcaDenoising = SVC(gamma=2,C=1)\n",
    "rfc_X3_byPcaDenoising = RandomForestClassifier(max_depth=5,n_estimators=50,max_features=1)"
   ]
  },
  {
   "cell_type": "code",
   "execution_count": 467,
   "id": "156f5086",
   "metadata": {},
   "outputs": [
    {
     "data": {
      "text/html": [
       "<style>#sk-container-id-31 {color: black;background-color: white;}#sk-container-id-31 pre{padding: 0;}#sk-container-id-31 div.sk-toggleable {background-color: white;}#sk-container-id-31 label.sk-toggleable__label {cursor: pointer;display: block;width: 100%;margin-bottom: 0;padding: 0.3em;box-sizing: border-box;text-align: center;}#sk-container-id-31 label.sk-toggleable__label-arrow:before {content: \"▸\";float: left;margin-right: 0.25em;color: #696969;}#sk-container-id-31 label.sk-toggleable__label-arrow:hover:before {color: black;}#sk-container-id-31 div.sk-estimator:hover label.sk-toggleable__label-arrow:before {color: black;}#sk-container-id-31 div.sk-toggleable__content {max-height: 0;max-width: 0;overflow: hidden;text-align: left;background-color: #f0f8ff;}#sk-container-id-31 div.sk-toggleable__content pre {margin: 0.2em;color: black;border-radius: 0.25em;background-color: #f0f8ff;}#sk-container-id-31 input.sk-toggleable__control:checked~div.sk-toggleable__content {max-height: 200px;max-width: 100%;overflow: auto;}#sk-container-id-31 input.sk-toggleable__control:checked~label.sk-toggleable__label-arrow:before {content: \"▾\";}#sk-container-id-31 div.sk-estimator input.sk-toggleable__control:checked~label.sk-toggleable__label {background-color: #d4ebff;}#sk-container-id-31 div.sk-label input.sk-toggleable__control:checked~label.sk-toggleable__label {background-color: #d4ebff;}#sk-container-id-31 input.sk-hidden--visually {border: 0;clip: rect(1px 1px 1px 1px);clip: rect(1px, 1px, 1px, 1px);height: 1px;margin: -1px;overflow: hidden;padding: 0;position: absolute;width: 1px;}#sk-container-id-31 div.sk-estimator {font-family: monospace;background-color: #f0f8ff;border: 1px dotted black;border-radius: 0.25em;box-sizing: border-box;margin-bottom: 0.5em;}#sk-container-id-31 div.sk-estimator:hover {background-color: #d4ebff;}#sk-container-id-31 div.sk-parallel-item::after {content: \"\";width: 100%;border-bottom: 1px solid gray;flex-grow: 1;}#sk-container-id-31 div.sk-label:hover label.sk-toggleable__label {background-color: #d4ebff;}#sk-container-id-31 div.sk-serial::before {content: \"\";position: absolute;border-left: 1px solid gray;box-sizing: border-box;top: 0;bottom: 0;left: 50%;z-index: 0;}#sk-container-id-31 div.sk-serial {display: flex;flex-direction: column;align-items: center;background-color: white;padding-right: 0.2em;padding-left: 0.2em;position: relative;}#sk-container-id-31 div.sk-item {position: relative;z-index: 1;}#sk-container-id-31 div.sk-parallel {display: flex;align-items: stretch;justify-content: center;background-color: white;position: relative;}#sk-container-id-31 div.sk-item::before, #sk-container-id-31 div.sk-parallel-item::before {content: \"\";position: absolute;border-left: 1px solid gray;box-sizing: border-box;top: 0;bottom: 0;left: 50%;z-index: -1;}#sk-container-id-31 div.sk-parallel-item {display: flex;flex-direction: column;z-index: 1;position: relative;background-color: white;}#sk-container-id-31 div.sk-parallel-item:first-child::after {align-self: flex-end;width: 50%;}#sk-container-id-31 div.sk-parallel-item:last-child::after {align-self: flex-start;width: 50%;}#sk-container-id-31 div.sk-parallel-item:only-child::after {width: 0;}#sk-container-id-31 div.sk-dashed-wrapped {border: 1px dashed gray;margin: 0 0.4em 0.5em 0.4em;box-sizing: border-box;padding-bottom: 0.4em;background-color: white;}#sk-container-id-31 div.sk-label label {font-family: monospace;font-weight: bold;display: inline-block;line-height: 1.2em;}#sk-container-id-31 div.sk-label-container {text-align: center;}#sk-container-id-31 div.sk-container {/* jupyter's `normalize.less` sets `[hidden] { display: none; }` but bootstrap.min.css set `[hidden] { display: none !important; }` so we also need the `!important` here to be able to override the default hidden behavior on the sphinx rendered scikit-learn.org. See: https://github.com/scikit-learn/scikit-learn/issues/21755 */display: inline-block !important;position: relative;}#sk-container-id-31 div.sk-text-repr-fallback {display: none;}</style><div id=\"sk-container-id-31\" class=\"sk-top-container\"><div class=\"sk-text-repr-fallback\"><pre>RandomForestClassifier(max_depth=5, max_features=1, n_estimators=50)</pre><b>In a Jupyter environment, please rerun this cell to show the HTML representation or trust the notebook. <br />On GitHub, the HTML representation is unable to render, please try loading this page with nbviewer.org.</b></div><div class=\"sk-container\" hidden><div class=\"sk-item\"><div class=\"sk-estimator sk-toggleable\"><input class=\"sk-toggleable__control sk-hidden--visually\" id=\"sk-estimator-id-31\" type=\"checkbox\" checked><label for=\"sk-estimator-id-31\" class=\"sk-toggleable__label sk-toggleable__label-arrow\">RandomForestClassifier</label><div class=\"sk-toggleable__content\"><pre>RandomForestClassifier(max_depth=5, max_features=1, n_estimators=50)</pre></div></div></div></div></div>"
      ],
      "text/plain": [
       "RandomForestClassifier(max_depth=5, max_features=1, n_estimators=50)"
      ]
     },
     "execution_count": 467,
     "metadata": {},
     "output_type": "execute_result"
    }
   ],
   "source": [
    "lgr_X3.fit(X3_train,y3_train)\n",
    "knn_X3.fit(X3_train,y3_train)\n",
    "svm_X3.fit(X3_train,y3_train)\n",
    "rfc_X3.fit(X3_train,y3_train)\n",
    "\n",
    "lgr_X3_byKnnDenoising.fit(X3_denoised_knn,y3_denoised_knn)\n",
    "knn_X3_byKnnDenoising.fit(X3_denoised_knn,y3_denoised_knn)\n",
    "svm_X3_byKnnDenoising.fit(X3_denoised_knn,y3_denoised_knn)\n",
    "rfc_X3_byKnnDenoising.fit(X3_denoised_knn,y3_denoised_knn)\n",
    "\n",
    "lgr_X3_byPcaDenoising.fit(X3_denoised_pca,y3_denoised_pca)\n",
    "knn_X3_byPcaDenoising.fit(X3_denoised_pca,y3_denoised_pca)\n",
    "svm_X3_byPcaDenoising.fit(X3_denoised_pca,y3_denoised_pca)\n",
    "rfc_X3_byPcaDenoising.fit(X3_denoised_pca,y3_denoised_pca)"
   ]
  },
  {
   "cell_type": "code",
   "execution_count": 468,
   "id": "1286b6ce",
   "metadata": {},
   "outputs": [
    {
     "data": {
      "text/plain": [
       "(0.9629629629629629, 0.7962962962962963, 0.9629629629629629)"
      ]
     },
     "execution_count": 468,
     "metadata": {},
     "output_type": "execute_result"
    }
   ],
   "source": [
    "lgr_X3.score(X3_test,y3_test),lgr_X3_byKnnDenoising.score(X3_test,y3_test),lgr_X3_byPcaDenoising.score(X3_test,y3_test)"
   ]
  },
  {
   "cell_type": "code",
   "execution_count": 469,
   "id": "ad0696b1",
   "metadata": {},
   "outputs": [
    {
     "data": {
      "text/plain": [
       "(0.7222222222222222, 0.7222222222222222, 0.7592592592592593)"
      ]
     },
     "execution_count": 469,
     "metadata": {},
     "output_type": "execute_result"
    }
   ],
   "source": [
    "knn_X3.score(X3_test,y3_test),knn_X3_byKnnDenoising.score(X3_test,y3_test),knn_X3_byPcaDenoising.score(X3_test,y3_test)"
   ]
  },
  {
   "cell_type": "code",
   "execution_count": 470,
   "id": "d4328c3c",
   "metadata": {},
   "outputs": [
    {
     "data": {
      "text/plain": [
       "(0.3888888888888889, 0.3333333333333333, 0.3888888888888889)"
      ]
     },
     "execution_count": 470,
     "metadata": {},
     "output_type": "execute_result"
    }
   ],
   "source": [
    "svm_X3.score(X3_test,y3_test),svm_X3_byKnnDenoising.score(X3_test,y3_test),svm_X3_byPcaDenoising.score(X3_test,y3_test)"
   ]
  },
  {
   "cell_type": "code",
   "execution_count": 471,
   "id": "750e4725",
   "metadata": {},
   "outputs": [
    {
     "data": {
      "text/plain": [
       "(1.0, 1.0, 0.9814814814814815)"
      ]
     },
     "execution_count": 471,
     "metadata": {},
     "output_type": "execute_result"
    }
   ],
   "source": [
    "rfc_X3.score(X3_test,y3_test),rfc_X3_byKnnDenoising.score(X3_test,y3_test),rfc_X3_byPcaDenoising.score(X3_test,y3_test)"
   ]
  },
  {
   "cell_type": "markdown",
   "id": "fcda1e68",
   "metadata": {},
   "source": [
    "### Clustering and PCA denoising"
   ]
  },
  {
   "cell_type": "code",
   "execution_count": 424,
   "id": "ef879553",
   "metadata": {},
   "outputs": [],
   "source": [
    "# Create the moon dataset\n",
    "X4,y4 = make_moons(noise=0.2,n_samples=400,random_state=12)"
   ]
  },
  {
   "cell_type": "code",
   "execution_count": 425,
   "id": "bcab29c1",
   "metadata": {},
   "outputs": [
    {
     "data": {
      "text/plain": [
       "<matplotlib.collections.PathCollection at 0x1d2c27c9e80>"
      ]
     },
     "execution_count": 425,
     "metadata": {},
     "output_type": "execute_result"
    },
    {
     "data": {
      "image/png": "[encoded data removed]",
      "text/plain": [
       "<Figure size 432x288 with 1 Axes>"
      ]
     },
     "metadata": {
      "needs_background": "light"
     },
     "output_type": "display_data"
    }
   ],
   "source": [
    "plt.scatter(X4[y4==0,0],X4[y4==0,1])\n",
    "plt.scatter(X4[y4==1,0],X4[y4==1,1])"
   ]
  },
  {
   "cell_type": "code",
   "execution_count": 480,
   "id": "67099f7a",
   "metadata": {},
   "outputs": [],
   "source": [
    "#X4_train,X4_test,y4_train,y4_test = train_test_split(X4,y4,test_size=0.3,random_state=42)"
   ]
  },
  {
   "cell_type": "markdown",
   "id": "054e0c24",
   "metadata": {},
   "source": [
    "### k-means clustering for each class with k=4"
   ]
  },
  {
   "cell_type": "code",
   "execution_count": 1,
   "id": "73e01680",
   "metadata": {},
   "outputs": [
    {
     "ename": "NameError",
     "evalue": "name 'X4' is not defined",
     "output_type": "error",
     "traceback": [
      "\u001b[1;31m---------------------------------------------------------------------------\u001b[0m",
      "\u001b[1;31mNameError\u001b[0m                                 Traceback (most recent call last)",
      "\u001b[1;32m~\\AppData\\Local\\Temp/ipykernel_12152/1911495568.py\u001b[0m in \u001b[0;36m<module>\u001b[1;34m\u001b[0m\n\u001b[1;32m----> 1\u001b[1;33m \u001b[0mXc_0\u001b[0m \u001b[1;33m=\u001b[0m \u001b[0mX4\u001b[0m\u001b[1;33m[\u001b[0m\u001b[0my4\u001b[0m\u001b[1;33m==\u001b[0m\u001b[1;36m0\u001b[0m\u001b[1;33m]\u001b[0m\u001b[1;33m\u001b[0m\u001b[1;33m\u001b[0m\u001b[0m\n\u001b[0m\u001b[0;32m      2\u001b[0m \u001b[0myc_0\u001b[0m \u001b[1;33m=\u001b[0m \u001b[0my4\u001b[0m\u001b[1;33m[\u001b[0m\u001b[0my4\u001b[0m\u001b[1;33m==\u001b[0m\u001b[1;36m0\u001b[0m\u001b[1;33m]\u001b[0m\u001b[1;33m\u001b[0m\u001b[1;33m\u001b[0m\u001b[0m\n\u001b[0;32m      3\u001b[0m \u001b[0mkm_0\u001b[0m \u001b[1;33m=\u001b[0m \u001b[0mKMeans\u001b[0m\u001b[1;33m(\u001b[0m\u001b[0mn_clusters\u001b[0m\u001b[1;33m=\u001b[0m\u001b[1;36m4\u001b[0m\u001b[1;33m,\u001b[0m\u001b[0minit\u001b[0m\u001b[1;33m=\u001b[0m\u001b[1;34m'k-means++'\u001b[0m\u001b[1;33m,\u001b[0m\u001b[0mn_init\u001b[0m\u001b[1;33m=\u001b[0m\u001b[1;36m10\u001b[0m\u001b[1;33m,\u001b[0m\u001b[0mmax_iter\u001b[0m\u001b[1;33m=\u001b[0m\u001b[1;36m300\u001b[0m\u001b[1;33m,\u001b[0m\u001b[0mtol\u001b[0m\u001b[1;33m=\u001b[0m\u001b[1;36m1e-04\u001b[0m\u001b[1;33m,\u001b[0m\u001b[0mrandom_state\u001b[0m\u001b[1;33m=\u001b[0m\u001b[1;36m0\u001b[0m\u001b[1;33m)\u001b[0m\u001b[1;33m\u001b[0m\u001b[1;33m\u001b[0m\u001b[0m\n\u001b[0;32m      4\u001b[0m \u001b[0my_km_0\u001b[0m \u001b[1;33m=\u001b[0m \u001b[0mkm_0\u001b[0m\u001b[1;33m.\u001b[0m\u001b[0mfit_predict\u001b[0m\u001b[1;33m(\u001b[0m\u001b[0mXc_0\u001b[0m\u001b[1;33m)\u001b[0m\u001b[1;33m\u001b[0m\u001b[1;33m\u001b[0m\u001b[0m\n\u001b[0;32m      5\u001b[0m \u001b[1;33m\u001b[0m\u001b[0m\n",
      "\u001b[1;31mNameError\u001b[0m: name 'X4' is not defined"
     ]
    }
   ],
   "source": [
    "\n",
    "Xc_0 = X4[y4==0]\n",
    "yc_0 = y4[y4==0]\n",
    "km_0 = KMeans(n_clusters=4,init='k-means++',n_init=10,max_iter=300,tol=1e-04,random_state=0)\n",
    "y_km_0 = km_0.fit_predict(Xc_0)\n",
    "\n",
    "Xc_1 = X4[y4==1]\n",
    "yc_1 = y4[y4==1]\n",
    "km_1 = KMeans(n_clusters=4,init='k-means++',n_init=10,max_iter=300,tol=1e-04,random_state=0)\n",
    "y_km_1 = km_1.fit_predict(Xc_1)\n",
    "y_km_1+=4"
   ]
  },
  {
   "cell_type": "code",
   "execution_count": 478,
   "id": "5886c1d1",
   "metadata": {},
   "outputs": [],
   "source": [
    "X4_clustered = np.vstack((Xc_0,Xc_1))\n",
    "y4_clustered = np.hstack((y_km_0,y_km_1))"
   ]
  },
  {
   "cell_type": "code",
   "execution_count": 479,
   "id": "2dbc8e12",
   "metadata": {},
   "outputs": [
    {
     "data": {
      "text/plain": [
       "<matplotlib.collections.PathCollection at 0x1d2bec9a8e0>"
      ]
     },
     "execution_count": 479,
     "metadata": {},
     "output_type": "execute_result"
    },
    {
     "data": {
      "image/png": "[encoded data removed]",
      "text/plain": [
       "<Figure size 432x288 with 1 Axes>"
      ]
     },
     "metadata": {
      "needs_background": "light"
     },
     "output_type": "display_data"
    }
   ],
   "source": [
    "plt.scatter(X4_clustered[y4_clustered==0,0],X4_clustered[y4_clustered==0,1])\n",
    "plt.scatter(X4_clustered[y4_clustered==1,0],X4_clustered[y4_clustered==1,1])\n",
    "plt.scatter(X4_clustered[y4_clustered==2,0],X4_clustered[y4_clustered==2,1])\n",
    "plt.scatter(X4_clustered[y4_clustered==3,0],X4_clustered[y4_clustered==3,1])\n",
    "plt.scatter(X4_clustered[y4_clustered==4,0],X4_clustered[y4_clustered==4,1])\n",
    "plt.scatter(X4_clustered[y4_clustered==5,0],X4_clustered[y4_clustered==5,1])\n",
    "plt.scatter(X4_clustered[y4_clustered==6,0],X4_clustered[y4_clustered==6,1])\n",
    "plt.scatter(X4_clustered[y4_clustered==7,0],X4_clustered[y4_clustered==7,1])"
   ]
  },
  {
   "cell_type": "code",
   "execution_count": 481,
   "id": "20cdd4dc",
   "metadata": {},
   "outputs": [],
   "source": [
    "X4_train,X4_test,y4_train,y4_test = train_test_split(X4_clustered,y4_clustered,test_size=0.3,random_state=42,stratify=y4_clustered)"
   ]
  },
  {
   "cell_type": "code",
   "execution_count": null,
   "id": "8ec5d0d2",
   "metadata": {},
   "outputs": [],
   "source": []
  },
  {
   "cell_type": "code",
   "execution_count": 483,
   "id": "c1f3cf94",
   "metadata": {},
   "outputs": [],
   "source": [
    "X4_denoised_pca,y4_denoised_pca = denoise_by_pca(X4_train,y4_train,0.9)"
   ]
  },
  {
   "cell_type": "code",
   "execution_count": 484,
   "id": "ba089983",
   "metadata": {},
   "outputs": [
    {
     "data": {
      "text/plain": [
       "<matplotlib.collections.PathCollection at 0x1d2bd87ea90>"
      ]
     },
     "execution_count": 484,
     "metadata": {},
     "output_type": "execute_result"
    },
    {
     "data": {
      "image/png": "[encoded data removed]",
      "text/plain": [
       "<Figure size 432x288 with 1 Axes>"
      ]
     },
     "metadata": {
      "needs_background": "light"
     },
     "output_type": "display_data"
    }
   ],
   "source": [
    "plt.scatter(X4_denoised_pca[y4_denoised_pca==0,0],X4_denoised_pca[y4_denoised_pca==0,1])\n",
    "plt.scatter(X4_denoised_pca[y4_denoised_pca==1,0],X4_denoised_pca[y4_denoised_pca==1,1])\n",
    "plt.scatter(X4_denoised_pca[y4_denoised_pca==2,0],X4_denoised_pca[y4_denoised_pca==2,1])\n",
    "plt.scatter(X4_denoised_pca[y4_denoised_pca==3,0],X4_denoised_pca[y4_denoised_pca==3,1])\n",
    "plt.scatter(X4_denoised_pca[y4_denoised_pca==4,0],X4_denoised_pca[y4_denoised_pca==4,1])\n",
    "plt.scatter(X4_denoised_pca[y4_denoised_pca==5,0],X4_denoised_pca[y4_denoised_pca==5,1])\n",
    "plt.scatter(X4_denoised_pca[y4_denoised_pca==6,0],X4_denoised_pca[y4_denoised_pca==6,1])\n",
    "plt.scatter(X4_denoised_pca[y4_denoised_pca==7,0],X4_denoised_pca[y4_denoised_pca==7,1])"
   ]
  },
  {
   "cell_type": "code",
   "execution_count": 485,
   "id": "2ca83d5f",
   "metadata": {},
   "outputs": [],
   "source": [
    "# Comparing performances of classifiers with and without denoising"
   ]
  },
  {
   "cell_type": "code",
   "execution_count": 486,
   "id": "910d7166",
   "metadata": {},
   "outputs": [],
   "source": [
    "lgr_X4 = LogisticRegression(max_iter=1000)\n",
    "knn_X4 = KNeighborsClassifier(5)\n",
    "svm_X4 = SVC(gamma=2,C=1)\n",
    "rfc_X4 = RandomForestClassifier(max_depth=5,n_estimators=50,max_features=1)\n",
    "\n",
    "#lgr_X4_byKnnDenoising = LogisticRegression(max_iter=1000)\n",
    "#knn_X4_byKnnDenoising = KNeighborsClassifier(5)\n",
    "#svm_X4_byKnnDenoising = SVC(gamma=2,C=1)\n",
    "#rfc_X4_byKnnDenoising = RandomForestClassifier(max_depth=5,n_estimators=50,max_features=1)\n",
    "\n",
    "lgr_X4_byPcaDenoising = LogisticRegression(max_iter=1000)\n",
    "knn_X4_byPcaDenoising = KNeighborsClassifier(5)\n",
    "svm_X4_byPcaDenoising = SVC(gamma=2,C=1)\n",
    "rfc_X4_byPcaDenoising = RandomForestClassifier(max_depth=5,n_estimators=50,max_features=1)"
   ]
  },
  {
   "cell_type": "code",
   "execution_count": 487,
   "id": "6c4f3360",
   "metadata": {},
   "outputs": [
    {
     "data": {
      "text/html": [
       "<style>#sk-container-id-32 {color: black;background-color: white;}#sk-container-id-32 pre{padding: 0;}#sk-container-id-32 div.sk-toggleable {background-color: white;}#sk-container-id-32 label.sk-toggleable__label {cursor: pointer;display: block;width: 100%;margin-bottom: 0;padding: 0.3em;box-sizing: border-box;text-align: center;}#sk-container-id-32 label.sk-toggleable__label-arrow:before {content: \"▸\";float: left;margin-right: 0.25em;color: #696969;}#sk-container-id-32 label.sk-toggleable__label-arrow:hover:before {color: black;}#sk-container-id-32 div.sk-estimator:hover label.sk-toggleable__label-arrow:before {color: black;}#sk-container-id-32 div.sk-toggleable__content {max-height: 0;max-width: 0;overflow: hidden;text-align: left;background-color: #f0f8ff;}#sk-container-id-32 div.sk-toggleable__content pre {margin: 0.2em;color: black;border-radius: 0.25em;background-color: #f0f8ff;}#sk-container-id-32 input.sk-toggleable__control:checked~div.sk-toggleable__content {max-height: 200px;max-width: 100%;overflow: auto;}#sk-container-id-32 input.sk-toggleable__control:checked~label.sk-toggleable__label-arrow:before {content: \"▾\";}#sk-container-id-32 div.sk-estimator input.sk-toggleable__control:checked~label.sk-toggleable__label {background-color: #d4ebff;}#sk-container-id-32 div.sk-label input.sk-toggleable__control:checked~label.sk-toggleable__label {background-color: #d4ebff;}#sk-container-id-32 input.sk-hidden--visually {border: 0;clip: rect(1px 1px 1px 1px);clip: rect(1px, 1px, 1px, 1px);height: 1px;margin: -1px;overflow: hidden;padding: 0;position: absolute;width: 1px;}#sk-container-id-32 div.sk-estimator {font-family: monospace;background-color: #f0f8ff;border: 1px dotted black;border-radius: 0.25em;box-sizing: border-box;margin-bottom: 0.5em;}#sk-container-id-32 div.sk-estimator:hover {background-color: #d4ebff;}#sk-container-id-32 div.sk-parallel-item::after {content: \"\";width: 100%;border-bottom: 1px solid gray;flex-grow: 1;}#sk-container-id-32 div.sk-label:hover label.sk-toggleable__label {background-color: #d4ebff;}#sk-container-id-32 div.sk-serial::before {content: \"\";position: absolute;border-left: 1px solid gray;box-sizing: border-box;top: 0;bottom: 0;left: 50%;z-index: 0;}#sk-container-id-32 div.sk-serial {display: flex;flex-direction: column;align-items: center;background-color: white;padding-right: 0.2em;padding-left: 0.2em;position: relative;}#sk-container-id-32 div.sk-item {position: relative;z-index: 1;}#sk-container-id-32 div.sk-parallel {display: flex;align-items: stretch;justify-content: center;background-color: white;position: relative;}#sk-container-id-32 div.sk-item::before, #sk-container-id-32 div.sk-parallel-item::before {content: \"\";position: absolute;border-left: 1px solid gray;box-sizing: border-box;top: 0;bottom: 0;left: 50%;z-index: -1;}#sk-container-id-32 div.sk-parallel-item {display: flex;flex-direction: column;z-index: 1;position: relative;background-color: white;}#sk-container-id-32 div.sk-parallel-item:first-child::after {align-self: flex-end;width: 50%;}#sk-container-id-32 div.sk-parallel-item:last-child::after {align-self: flex-start;width: 50%;}#sk-container-id-32 div.sk-parallel-item:only-child::after {width: 0;}#sk-container-id-32 div.sk-dashed-wrapped {border: 1px dashed gray;margin: 0 0.4em 0.5em 0.4em;box-sizing: border-box;padding-bottom: 0.4em;background-color: white;}#sk-container-id-32 div.sk-label label {font-family: monospace;font-weight: bold;display: inline-block;line-height: 1.2em;}#sk-container-id-32 div.sk-label-container {text-align: center;}#sk-container-id-32 div.sk-container {/* jupyter's `normalize.less` sets `[hidden] { display: none; }` but bootstrap.min.css set `[hidden] { display: none !important; }` so we also need the `!important` here to be able to override the default hidden behavior on the sphinx rendered scikit-learn.org. See: https://github.com/scikit-learn/scikit-learn/issues/21755 */display: inline-block !important;position: relative;}#sk-container-id-32 div.sk-text-repr-fallback {display: none;}</style><div id=\"sk-container-id-32\" class=\"sk-top-container\"><div class=\"sk-text-repr-fallback\"><pre>RandomForestClassifier(max_depth=5, max_features=1, n_estimators=50)</pre><b>In a Jupyter environment, please rerun this cell to show the HTML representation or trust the notebook. <br />On GitHub, the HTML representation is unable to render, please try loading this page with nbviewer.org.</b></div><div class=\"sk-container\" hidden><div class=\"sk-item\"><div class=\"sk-estimator sk-toggleable\"><input class=\"sk-toggleable__control sk-hidden--visually\" id=\"sk-estimator-id-32\" type=\"checkbox\" checked><label for=\"sk-estimator-id-32\" class=\"sk-toggleable__label sk-toggleable__label-arrow\">RandomForestClassifier</label><div class=\"sk-toggleable__content\"><pre>RandomForestClassifier(max_depth=5, max_features=1, n_estimators=50)</pre></div></div></div></div></div>"
      ],
      "text/plain": [
       "RandomForestClassifier(max_depth=5, max_features=1, n_estimators=50)"
      ]
     },
     "execution_count": 487,
     "metadata": {},
     "output_type": "execute_result"
    }
   ],
   "source": [
    "lgr_X4.fit(X4_clustered,y4_clustered)\n",
    "knn_X4.fit(X4_clustered,y4_clustered)\n",
    "svm_X4.fit(X4_clustered,y4_clustered)\n",
    "rfc_X4.fit(X4_clustered,y4_clustered)\n",
    "\n",
    "#lgr_X3_byKnnDenoising.fit(X3_denoised_knn,y3_denoised_knn)\n",
    "#knn_X3_byKnnDenoising.fit(X3_denoised_knn,y3_denoised_knn)\n",
    "#svm_X3_byKnnDenoising.fit(X3_denoised_knn,y3_denoised_knn)\n",
    "#rfc_X3_byKnnDenoising.fit(X3_denoised_knn,y3_denoised_knn)\n",
    "\n",
    "lgr_X4_byPcaDenoising.fit(X4_denoised_pca,y4_denoised_pca)\n",
    "knn_X4_byPcaDenoising.fit(X4_denoised_pca,y4_denoised_pca)\n",
    "svm_X4_byPcaDenoising.fit(X4_denoised_pca,y4_denoised_pca)\n",
    "rfc_X4_byPcaDenoising.fit(X4_denoised_pca,y4_denoised_pca)"
   ]
  },
  {
   "cell_type": "code",
   "execution_count": 488,
   "id": "a7fc35ec",
   "metadata": {},
   "outputs": [
    {
     "data": {
      "text/plain": [
       "(0.9333333333333333, 0.9083333333333333)"
      ]
     },
     "execution_count": 488,
     "metadata": {},
     "output_type": "execute_result"
    }
   ],
   "source": [
    "lgr_X4.score(X4_test,y4_test),lgr_X4_byPcaDenoising.score(X4_test,y4_test)"
   ]
  },
  {
   "cell_type": "code",
   "execution_count": 489,
   "id": "e2008bb9",
   "metadata": {},
   "outputs": [
    {
     "data": {
      "text/plain": [
       "(0.9666666666666667, 0.9666666666666667)"
      ]
     },
     "execution_count": 489,
     "metadata": {},
     "output_type": "execute_result"
    }
   ],
   "source": [
    "knn_X4.score(X4_test,y4_test),knn_X4_byPcaDenoising.score(X4_test,y4_test)"
   ]
  },
  {
   "cell_type": "code",
   "execution_count": 490,
   "id": "b2573b65",
   "metadata": {},
   "outputs": [
    {
     "data": {
      "text/plain": [
       "(0.9666666666666667, 0.9583333333333334)"
      ]
     },
     "execution_count": 490,
     "metadata": {},
     "output_type": "execute_result"
    }
   ],
   "source": [
    "svm_X4.score(X4_test,y4_test),svm_X4_byPcaDenoising.score(X4_test,y4_test)"
   ]
  },
  {
   "cell_type": "code",
   "execution_count": 491,
   "id": "74de52df",
   "metadata": {},
   "outputs": [
    {
     "data": {
      "text/plain": [
       "(0.9583333333333334, 0.925)"
      ]
     },
     "execution_count": 491,
     "metadata": {},
     "output_type": "execute_result"
    }
   ],
   "source": [
    "rfc_X4.score(X4_test,y4_test),rfc_X4_byPcaDenoising.score(X4_test,y4_test)"
   ]
  },
  {
   "cell_type": "code",
   "execution_count": null,
   "id": "194ea134",
   "metadata": {},
   "outputs": [],
   "source": []
  },
  {
   "cell_type": "code",
   "execution_count": null,
   "id": "f5296b00",
   "metadata": {},
   "outputs": [],
   "source": []
  }
 ],
 "metadata": {
  "kernelspec": {
   "display_name": "Python 3 (ipykernel)",
   "language": "python",
   "name": "python3"
  },
  "language_info": {
   "codemirror_mode": {
    "name": "ipython",
    "version": 3
   },
   "file_extension": ".py",
   "mimetype": "text/x-python",
   "name": "python",
   "nbconvert_exporter": "python",
   "pygments_lexer": "ipython3",
   "version": "3.9.7"
  }
 },
 "nbformat": 4,
 "nbformat_minor": 5
}
