{
 "cells": [
  {
   "cell_type": "code",
   "execution_count": 1,
   "id": "586621c5",
   "metadata": {},
   "outputs": [],
   "source": [
    "import numpy as np\n",
    "import matplotlib.pyplot as plt\n",
    "from sklearn.linear_model import LogisticRegression\n",
    "from sklearn.neighbors import KNeighborsClassifier\n",
    "from sklearn.svm import SVC\n",
    "from sklearn.ensemble import RandomForestClassifier\n",
    "from sklearn.cluster import KMeans\n",
    "from sklearn.datasets import load_iris\n",
    "from sklearn.datasets import load_wine\n",
    "from sklearn.datasets import make_moons\n",
    "from sklearn.model_selection import train_test_split\n",
    "from sklearn.base import clone\n",
    "import copy\n",
    "from matplotlib.patches import Ellipse"
   ]
  },
  {
   "cell_type": "code",
   "execution_count": 2,
   "id": "21dfc531",
   "metadata": {},
   "outputs": [],
   "source": [
    "# Data preparation\n",
    "\n",
    "data1 = np.loadtxt('data/synthetic1.data', delimiter=',')\n",
    "X1= data1[:,0:2]\n",
    "y1=data1[:,2]\n",
    "\n",
    "data2 = load_iris()\n",
    "X2= data2.data\n",
    "y2 = data2.target\n",
    "\n",
    "data3 = load_wine()\n",
    "X3 = data3.data\n",
    "y3 = data3.target\n",
    "\n",
    "# Split train and test datasets\n",
    "\n",
    "X1_train,X1_test,y1_train,y1_test = train_test_split(X1,y1,test_size=0.3,\n",
    "                                                     random_state=42,stratify=y1)\n",
    "X2_train,X2_test,y2_train,y2_test = train_test_split(X2,y2,test_size=0.3,\n",
    "                                                     random_state=42,stratify=y2)\n",
    "X3_train,X3_test,y3_train,y3_test = train_test_split(X3,y3,test_size=0.3,\n",
    "                                                     random_state=42,stratify=y3)"
   ]
  },
  {
   "cell_type": "markdown",
   "id": "9d40d862",
   "metadata": {},
   "source": [
    "### Funtion for Knn based denoising"
   ]
  },
  {
   "cell_type": "code",
   "execution_count": 3,
   "id": "21d0fadb",
   "metadata": {},
   "outputs": [],
   "source": [
    "def denoise_by_knn(X,y,k,xi):\n",
    "    \n",
    "    indices_to_remove = []\n",
    "    \n",
    "    for i in  range(X.shape[0]):\n",
    "        nearest_points=[]\n",
    "        distances =[]\n",
    "        \n",
    "        # Calculate the distance of the test point from all the points in training set.\n",
    "        for j in range(X.shape[0]):\n",
    "            distance = np.linalg.norm(X[j]-X[i])\n",
    "            distances.append((distance,j))\n",
    "        \n",
    "        #Sort the list and find first k neighbours\n",
    "        distances.sort(key=lambda x: x[0])\n",
    "        \n",
    "        labels = np.zeros(k)\n",
    "        for n in range(k):\n",
    "            nearest_points.append(distances[n])\n",
    "            labels[n] = y[distances[n][1]]\n",
    "        \n",
    "        unique_elements, counts_elements = np.unique(labels, return_counts=True)\n",
    "        \n",
    "        l = counts_elements.shape[0]\n",
    "        \n",
    "        majority_class = 0\n",
    "        majority_count = 0\n",
    "        for m in range(l):\n",
    "            if(counts_elements[m] > majority_count):\n",
    "                majority_count = counts_elements[m]\n",
    "                majority_class = unique_elements[m]\n",
    "        \n",
    "        ignore = True\n",
    "        if(majority_class == y[i] and majority_count >= xi):\n",
    "            ignore = False\n",
    "              \n",
    "        if(ignore):\n",
    "            indices_to_remove.append(i)\n",
    "    \n",
    "    # Remove the samples for which there is no class having the count of labels >= xi\n",
    "    if(len(indices_to_remove) > 0):\n",
    "        X_denoised = np.delete(X,indices_to_remove,0)\n",
    "        y_denoised = np.delete(y,indices_to_remove)\n",
    "    else:\n",
    "        X_denoised = np.copy(X)\n",
    "        Y_denoised = np.copy(y)\n",
    "    \n",
    "    return X_denoised,y_denoised"
   ]
  },
  {
   "cell_type": "markdown",
   "id": "13556d6e",
   "metadata": {},
   "source": [
    "### Function for Pca based denoising"
   ]
  },
  {
   "cell_type": "code",
   "execution_count": 4,
   "id": "b5ea19d7",
   "metadata": {},
   "outputs": [],
   "source": [
    "def aniso_dist2(Xc,s,VT,C):\n",
    "    \"\"\" Measure anisotropic distances for data points in a class \"\"\"\n",
    "    AD2 = []\n",
    "    N,d = Xc.shape\n",
    "    for i in range(N):\n",
    "         AD2.append( sum(((Xc[i]-C).dot(VT[j])/s[j])**2 for j in range(d)) )\n",
    "    return np.array(AD2)"
   ]
  },
  {
   "cell_type": "code",
   "execution_count": 5,
   "id": "5fd2f564",
   "metadata": {},
   "outputs": [],
   "source": [
    "def denoise_by_pca(X,y,p):\n",
    "    X_list = []\n",
    "    y_list = []\n",
    "    nclass = len(np.unique(y))\n",
    "    for c in range(nclass):\n",
    "        indices_to_remove =[]\n",
    "        Xc = X[y==c]\n",
    "        yc = y[y==c]\n",
    "        CC = np.mean(Xc,axis=0)\n",
    "        U,s,VT = np.linalg.svd(Xc-CC,full_matrices=False)\n",
    "        AD2 = aniso_dist2(Xc,s,VT,CC)\n",
    "        r_max_squared = np.amax(AD2)\n",
    "        \n",
    "        sortIndex = np.argsort(AD2)\n",
    "        Xcs = Xc[sortIndex]\n",
    "        \n",
    "        N = round(p*Xc.shape[0])\n",
    "        X_list.append(Xcs[:N])\n",
    "        y_list.append(yc[:N])\n",
    "\n",
    "        \n",
    "    X_denoised = np.vstack((X_list))\n",
    "    y_denoised = np.hstack((y_list))\n",
    "    \n",
    "    return X_denoised,y_denoised"
   ]
  },
  {
   "cell_type": "markdown",
   "id": "73a34192",
   "metadata": {},
   "source": [
    "## Lets see the changes in Synthetic dataset by denoising the data."
   ]
  },
  {
   "cell_type": "code",
   "execution_count": 57,
   "id": "299eac3d",
   "metadata": {},
   "outputs": [],
   "source": [
    "# Denoise the dataset based on knn\n",
    "X1_denoised_knn,y1_denoised_knn = denoise_by_knn(X1_train,y1_train,5,4)"
   ]
  },
  {
   "cell_type": "code",
   "execution_count": 7,
   "id": "bb0c2133",
   "metadata": {},
   "outputs": [
    {
     "data": {
      "image/png": "[encoded data removed]",
      "text/plain": [
       "<Figure size 720x288 with 2 Axes>"
      ]
     },
     "metadata": {
      "needs_background": "light"
     },
     "output_type": "display_data"
    }
   ],
   "source": [
    "# Plot the graphs to see the differences\n",
    "\n",
    "fig,ax = plt.subplots(nrows=1,ncols=2,figsize=(10,4))\n",
    "\n",
    "    \n",
    "ax[0].scatter(X1_train[y1_train==0,0],X1_train[y1_train==0,1])\n",
    "ax[0].scatter(X1_train[y1_train==1,0],X1_train[y1_train==1,1])\n",
    "ax[0].scatter(X1_train[y1_train==2,0],X1_train[y1_train==2,1])\n",
    "ax[0].set_title('Original Synthetic data1')\n",
    "\n",
    "ax[1].scatter(X1_denoised_knn[y1_denoised_knn==0,0],\n",
    "              X1_denoised_knn[y1_denoised_knn==0,1])\n",
    "ax[1].scatter(X1_denoised_knn[y1_denoised_knn==1,0],\n",
    "              X1_denoised_knn[y1_denoised_knn==1,1])\n",
    "ax[1].scatter(X1_denoised_knn[y1_denoised_knn==2,0],\n",
    "              X1_denoised_knn[y1_denoised_knn==2,1])\n",
    "ax[1].set_title('Denoisined by knn')\n",
    "\n",
    "plt.show()"
   ]
  },
  {
   "cell_type": "markdown",
   "id": "d61e4b99",
   "metadata": {},
   "source": [
    "From the above plots we can see that the clusters are well separated by denoising the data"
   ]
  },
  {
   "cell_type": "code",
   "execution_count": 58,
   "id": "37db10d3",
   "metadata": {},
   "outputs": [],
   "source": [
    "# Denoise the dataset based on Pca\n",
    "X1_denoised_pca,y1_denoised_pca = denoise_by_pca(X1_train,y1_train,0.9)"
   ]
  },
  {
   "cell_type": "code",
   "execution_count": 9,
   "id": "0b51818d",
   "metadata": {},
   "outputs": [
    {
     "data": {
      "image/png": "[encoded data removed]",
      "text/plain": [
       "<Figure size 720x288 with 2 Axes>"
      ]
     },
     "metadata": {
      "needs_background": "light"
     },
     "output_type": "display_data"
    }
   ],
   "source": [
    "fig,ax = plt.subplots(nrows=1,ncols=2,figsize=(10,4)\n",
    "                     )\n",
    "\n",
    "ax[0].scatter(X1_train[y1_train==0,0],X1_train[y1_train==0,1])\n",
    "ax[0].scatter(X1_train[y1_train==1,0],X1_train[y1_train==1,1])\n",
    "ax[0].scatter(X1_train[y1_train==2,0],X1_train[y1_train==2,1])\n",
    "ax[0].set_title('Original Synthetic data')\n",
    "\n",
    "ax[1].scatter(X1_denoised_pca[y1_denoised_pca==0,0],\n",
    "              X1_denoised_pca[y1_denoised_pca==0,1])\n",
    "ax[1].scatter(X1_denoised_pca[y1_denoised_pca==1,0],\n",
    "              X1_denoised_pca[y1_denoised_pca==1,1])\n",
    "ax[1].scatter(X1_denoised_pca[y1_denoised_pca==2,0],\n",
    "              X1_denoised_pca[y1_denoised_pca==2,1])\n",
    "ax[1].set_title('Denoised by PCA')\n",
    "\n",
    "plt.show()"
   ]
  },
  {
   "cell_type": "markdown",
   "id": "c5915734",
   "metadata": {},
   "source": [
    "From the above plots we can see the clusters are well separated now."
   ]
  },
  {
   "cell_type": "markdown",
   "id": "b605790f",
   "metadata": {},
   "source": [
    "### Plot the MVEE"
   ]
  },
  {
   "cell_type": "code",
   "execution_count": 10,
   "id": "73eec89c",
   "metadata": {},
   "outputs": [],
   "source": [
    "COLOR = ['r','b','c']\n",
    "MARKER = ['.','s','+','*']\n",
    "\n",
    "def VT2angle(VT):\n",
    "    return np.arccos(np.abs(VT[0,0])) *(180/np.pi);\n",
    "\n",
    "def dataCellipses(X,y,savename):\n",
    "    \n",
    "    N,d = X.shape; nclass = len(set(y))\n",
    "    if d==2:  #for figures\n",
    "        ELL = [];\n",
    "        #fig, p = plt.subplots()  #Open new plots\n",
    "        p = plt.subplot(111)      #Reuse instances\n",
    "    for c in range(nclass):\n",
    "        Xc = X[y==c]; CC = np.mean(Xc,axis=0)\n",
    "        U, s, VT = np.linalg.svd(Xc-CC,full_matrices=False)\n",
    "        AD2 = aniso_dist2(Xc,s,VT,CC)\n",
    "        if d==2: #for figures\n",
    "            plt.scatter(Xc[:,0],Xc[:,1],s=15,c=COLOR[c])\n",
    "            angle = VT2angle(VT);\n",
    "            eta = np.sqrt(max(AD2))*2\n",
    "            ELL.append(Ellipse(CC, s[0]*eta, s[1]*eta, angle ) )\n",
    "\n",
    "    if d==2:  #for figures\n",
    "        for c, e in enumerate(ELL):\n",
    "            e.set_clip_box(p.bbox); e.set_alpha(0.33)\n",
    "            e.set_facecolor(COLOR[c])\n",
    "            p.add_artist(e)\n",
    "        #ymin,ymax = np.min(X[:,1]), np.max(X[:,1])\n",
    "        #plt.ylim([int(ymin)-1,int(ymax)+1])\n",
    "        plt.title('MVEE')\n",
    "        plt.show(block=False); plt.pause(5)"
   ]
  },
  {
   "cell_type": "code",
   "execution_count": 11,
   "id": "97b36f2c",
   "metadata": {},
   "outputs": [
    {
     "data": {
      "image/png": "[encoded data removed]",
      "text/plain": [
       "<Figure size 432x288 with 1 Axes>"
      ]
     },
     "metadata": {
      "needs_background": "light"
     },
     "output_type": "display_data"
    }
   ],
   "source": [
    "dataCellipses(X1,y1,'Synthetic Data1')\n"
   ]
  },
  {
   "cell_type": "markdown",
   "id": "ed5dd573",
   "metadata": {},
   "source": [
    "The above plot shows the minimum volume enclosing ellipsoid(MVEE)"
   ]
  },
  {
   "cell_type": "code",
   "execution_count": 12,
   "id": "dc654a2a",
   "metadata": {},
   "outputs": [
    {
     "data": {
      "image/png": "[encoded data removed]",
      "text/plain": [
       "<Figure size 432x288 with 1 Axes>"
      ]
     },
     "metadata": {
      "needs_background": "light"
     },
     "output_type": "display_data"
    }
   ],
   "source": [
    "dataCellipses(X1_denoised_knn,y1_denoised_knn,\"Denoisedby knn\")"
   ]
  },
  {
   "cell_type": "markdown",
   "id": "a6a04be8",
   "metadata": {},
   "source": [
    "The above plot shows the MVEE of the denoised dataset. We can see that the overlapping regions have reduced a lot and the clusters are well separated."
   ]
  },
  {
   "cell_type": "markdown",
   "id": "0de19e29",
   "metadata": {},
   "source": [
    "### Run the experiments for different datasets"
   ]
  },
  {
   "cell_type": "code",
   "execution_count": 13,
   "id": "90bc98f8",
   "metadata": {},
   "outputs": [
    {
     "name": "stdout",
     "output_type": "stream",
     "text": [
      "Accuracies for Synthetic Data       Before denoising  KNN-denoising  PCA-denoising \n",
      "Logistic Regression                      0.94444           0.94444        0.96667       \n",
      "KNeighbors classifier                    0.93333           0.93333        0.96667       \n",
      "SVM                                      0.93333           0.94444        0.92222       \n",
      "Random Forest                            0.95556           0.93333        0.93333       \n",
      "\n",
      "\n",
      "Accuracies for Iris Data            Before denoising  KNN-denoising  PCA-denoising \n",
      "Logistic Regression                      0.93333           0.93333        0.95556       \n",
      "KNeighbors classifier                    0.97778           0.95556        0.97778       \n",
      "SVM                                      0.97778           0.97778        0.97778       \n",
      "Random Forest                            0.88889           0.86667        0.93333       \n",
      "\n",
      "\n",
      "Accuracies for Wine Data            Before denoising  KNN-denoising  PCA-denoising \n",
      "Logistic Regression                      0.96296           0.79630        0.96296       \n",
      "KNeighbors classifier                    0.72222           0.72222        0.81481       \n",
      "SVM                                      0.38889           0.33333        0.38889       \n",
      "Random Forest                            0.98148           1.00000        0.92593       \n",
      "\n",
      "\n"
     ]
    }
   ],
   "source": [
    "datasets = [X1,X2,X3]\n",
    "data_names = ['Synthetic Data','Iris Data','Wine Data']\n",
    "labels = [y1,y2,y3]\n",
    "classifiers = [LogisticRegression(max_iter=10000),\n",
    "               KNeighborsClassifier(5),SVC(gamma=2,C=1),\n",
    "               RandomForestClassifier(max_depth=5,\n",
    "                                      n_estimators=50,max_features=1)]\n",
    "classifier_names = ['Logistic Regression','KNeighbors classifier',\n",
    "                   'SVM','Random Forest']\n",
    "k=5\n",
    "xi=4\n",
    "p=0.75\n",
    "\n",
    "for i in range(len(datasets)):\n",
    "    X_train,X_test,y_train,y_test = train_test_split(datasets[i],labels[i],\n",
    "                                                     test_size=0.3,\n",
    "                                                     random_state=42,\n",
    "                                                     stratify=labels[i])\n",
    "    \n",
    "    X_denoised_Byknn,y_denoised_Byknn = denoise_by_knn(X_train,y_train,k,xi)\n",
    "    X_denoised_ByPca,y_denoised_ByPca = denoise_by_pca(X_train,y_train,p)\n",
    "    \n",
    "    print('{} {:<20} {:<17} {:<14} {:<14}'.format('Accuracies for',\n",
    "                                                  data_names[i],'Before denoising',\n",
    "                                                  'KNN-denoising','PCA-denoising'))\n",
    "    \n",
    "    for j in range(len(classifiers)):\n",
    "        \n",
    "        clf = classifiers[j]\n",
    "        clf_denoisedKnn = clone(classifiers[j])\n",
    "        clf_denoisedPca = clone(classifiers[j])\n",
    "        \n",
    "        clf.fit(X_train,y_train)\n",
    "        clf_denoisedKnn.fit(X_denoised_Byknn,y_denoised_Byknn)\n",
    "        clf_denoisedPca.fit(X_denoised_ByPca,y_denoised_ByPca)\n",
    "        \n",
    "        score = clf.score(X_test,y_test)\n",
    "        score_denoisedKnn = clf_denoisedKnn.score(X_test,y_test)\n",
    "        score_denoisedPca = clf_denoisedPca.score(X_test,y_test)\n",
    "        \n",
    "        print('{:<40} {:<17.5f} {:<14.5f} {:<14.5f}'.format(classifier_names[j],\n",
    "                                                            score,score_denoisedKnn,\n",
    "                                                            score_denoisedPca))\n",
    "    print('\\n')\n",
    "        "
   ]
  },
  {
   "cell_type": "markdown",
   "id": "3f34eb37",
   "metadata": {},
   "source": [
    "From the above results we can see that the accuracies of the datasets have slightly increased and remained the same in some other cases. It is also observed that the accuracies of pca-based denoised datasets is better than the knn-based denoised datasets."
   ]
  },
  {
   "cell_type": "markdown",
   "id": "774a6089",
   "metadata": {},
   "source": [
    "### run_experiments defined below is the function that runs the experiments for different parameter values depending upon the method selected for denoising"
   ]
  },
  {
   "cell_type": "code",
   "execution_count": 14,
   "id": "318133f1",
   "metadata": {},
   "outputs": [],
   "source": [
    "def run_experiments(X,y,data_name,classifiers,classifier_names,method,parameters,k=5):\n",
    "    \n",
    "    X_train,X_test,y_train,y_test = train_test_split(X,y,test_size=0.3,\n",
    "                                                     random_state=42,stratify=y)\n",
    "\n",
    "    accuracies_before_denoising = []\n",
    "\n",
    "    knn_classifiers = copy.deepcopy(classifiers)\n",
    "    pca_classifiers = copy.deepcopy(classifiers)\n",
    "    \n",
    "    for i in range(len(classifiers)):\n",
    "        \n",
    "        for j in range(len(classifiers)):\n",
    "            clf = classifiers[j]\n",
    "            clf.fit(X_train,y_train)\n",
    "            accuracies_before_denoising.append(clf.score(X_test,y_test))\n",
    "    \n",
    "        \n",
    "    print(\"For \",data_name ,':-')\n",
    "    print('\\n')\n",
    "    if(method == 'knn'):\n",
    "        \n",
    "        for i in range(len(parameters)):\n",
    "            X_denoised,y_denoised = denoise_by_knn(X_train,y_train,k,parameters[i])\n",
    "            \n",
    "            print('{:<40}{:<22}{:<18}{}'.format('Classifiers','Before Denoising',\n",
    "                                                'knn-denoising xi =',parameters[i]))\n",
    "            \n",
    "            for j in range(len(classifiers)):\n",
    "                clf_knn = knn_classifiers[j]\n",
    "                clf_knn.fit(X_denoised,y_denoised)\n",
    "                score = clf_knn.score(X_test,y_test)\n",
    "                print('{:<40}{:10.5f}{:22.5f}'.format(classifier_names[j],\n",
    "                                                      accuracies_before_denoising[j],\n",
    "                                                      score))\n",
    "            print('\\n')\n",
    "        \n",
    "    if(method == 'pca'):\n",
    "        \n",
    "        for i in range(len(parameters)):\n",
    "            X_denoised,y_denoised = denoise_by_pca(X_train,y_train,parameters[i])\n",
    "            \n",
    "            print('{:<40}{:<22}{:<18}{}'.format('Classifiers','Before Denoising',\n",
    "                                                'pca-denoising p=',parameters[i]))\n",
    "            \n",
    "            for j in range(len(classifiers)):\n",
    "                clf_pca = pca_classifiers[j]\n",
    "                clf_pca.fit(X_denoised,y_denoised)\n",
    "                score = clf_pca.score(X_test,y_test)\n",
    "                print('{:<40}{:10.5f}{:22.5f}'.format(classifier_names[j],\n",
    "                                                      accuracies_before_denoising[j],score))\n",
    "            print('\\n')\n"
   ]
  },
  {
   "cell_type": "markdown",
   "id": "142c69be",
   "metadata": {},
   "source": [
    "## For Synthetic Dataset"
   ]
  },
  {
   "cell_type": "code",
   "execution_count": 15,
   "id": "fe92c572",
   "metadata": {},
   "outputs": [
    {
     "name": "stdout",
     "output_type": "stream",
     "text": [
      "For  Synthetic Data :-\n",
      "\n",
      "\n",
      "Classifiers                             Before Denoising      knn-denoising xi =4\n",
      "Logistic Regression                        0.94444               0.94444\n",
      "KNeighbors classifier                      0.93333               0.93333\n",
      "SVM                                        0.93333               0.94444\n",
      "Random Forest                              0.92222               0.93333\n",
      "\n",
      "\n",
      "Classifiers                             Before Denoising      knn-denoising xi =3\n",
      "Logistic Regression                        0.94444               0.94444\n",
      "KNeighbors classifier                      0.93333               0.93333\n",
      "SVM                                        0.93333               0.94444\n",
      "Random Forest                              0.92222               0.95556\n",
      "\n",
      "\n"
     ]
    }
   ],
   "source": [
    "xi_values = [4,3]\n",
    "run_experiments(X1,y1,data_names[0],classifiers,classifier_names,method='knn',\n",
    "                parameters=xi_values)"
   ]
  },
  {
   "cell_type": "markdown",
   "id": "4bf74c05",
   "metadata": {},
   "source": [
    "For both values of xi , accuracies have improved slightly for SVM and RandomForestClassifier."
   ]
  },
  {
   "cell_type": "code",
   "execution_count": 16,
   "id": "42e2eb75",
   "metadata": {},
   "outputs": [
    {
     "name": "stdout",
     "output_type": "stream",
     "text": [
      "For  Synthetic Data :-\n",
      "\n",
      "\n",
      "Classifiers                             Before Denoising      knn-denoising xi =5\n",
      "Logistic Regression                        0.94444               0.94444\n",
      "KNeighbors classifier                      0.93333               0.93333\n",
      "SVM                                        0.93333               0.94444\n",
      "Random Forest                              0.92222               0.94444\n",
      "\n",
      "\n",
      "Classifiers                             Before Denoising      knn-denoising xi =4\n",
      "Logistic Regression                        0.94444               0.93333\n",
      "KNeighbors classifier                      0.93333               0.93333\n",
      "SVM                                        0.93333               0.94444\n",
      "Random Forest                              0.92222               0.94444\n",
      "\n",
      "\n"
     ]
    }
   ],
   "source": [
    "xi_values = [5,4]\n",
    "run_experiments(X1,y1,data_names[0],classifiers,classifier_names,\n",
    "                method='knn',parameters=xi_values,k=6)"
   ]
  },
  {
   "cell_type": "code",
   "execution_count": 17,
   "id": "d23902f6",
   "metadata": {},
   "outputs": [
    {
     "name": "stdout",
     "output_type": "stream",
     "text": [
      "For  Synthetic Data :-\n",
      "\n",
      "\n",
      "Classifiers                             Before Denoising      knn-denoising xi =2\n",
      "Logistic Regression                        0.94444               0.94444\n",
      "KNeighbors classifier                      0.93333               0.93333\n",
      "SVM                                        0.93333               0.94444\n",
      "Random Forest                              0.94444               0.94444\n",
      "\n",
      "\n"
     ]
    }
   ],
   "source": [
    "xi_values = [2]\n",
    "run_experiments(X1,y1,data_names[0],classifiers,classifier_names,\n",
    "                method='knn',parameters=xi_values,k=3)"
   ]
  },
  {
   "cell_type": "markdown",
   "id": "f03648aa",
   "metadata": {},
   "source": [
    "From the above experiments we can see that changing the values of k and xi in the denoising method does not affect the accuracies of the algorithms. All the accuracies are around 93-94%"
   ]
  },
  {
   "cell_type": "code",
   "execution_count": 18,
   "id": "30eeafeb",
   "metadata": {},
   "outputs": [
    {
     "name": "stdout",
     "output_type": "stream",
     "text": [
      "For  Synthetic Data :-\n",
      "\n",
      "\n",
      "Classifiers                             Before Denoising      pca-denoising p=  0.75\n",
      "Logistic Regression                        0.94444               0.96667\n",
      "KNeighbors classifier                      0.93333               0.96667\n",
      "SVM                                        0.93333               0.92222\n",
      "Random Forest                              0.93333               0.95556\n",
      "\n",
      "\n",
      "Classifiers                             Before Denoising      pca-denoising p=  0.9\n",
      "Logistic Regression                        0.94444               0.92222\n",
      "KNeighbors classifier                      0.93333               0.94444\n",
      "SVM                                        0.93333               0.94444\n",
      "Random Forest                              0.93333               0.96667\n",
      "\n",
      "\n"
     ]
    }
   ],
   "source": [
    "p_values = [0.75,0.9]\n",
    "run_experiments(X1,y1,data_names[0],classifiers,classifier_names,\n",
    "                method='pca',parameters=p_values)"
   ]
  },
  {
   "cell_type": "markdown",
   "id": "fbebb17f",
   "metadata": {},
   "source": [
    "We can see the the accuracies before denoising and after denoising have slightly increased or reamined almost the same. Only in 2 cases it came little down. We can say that denoising does make a slight improvement in the accuracy for this dataset.\n",
    "\n",
    "By comparing the above results , we casn chose the Kneighbors classifier or Logistic regression by the method of PCA denoising. Lets try to tune the classifiers further to see which one is better."
   ]
  },
  {
   "cell_type": "markdown",
   "id": "ce2de81a",
   "metadata": {},
   "source": [
    "Logistic regression does not have any much important hyperparamter. So lets try to tune the Knn algorithm with different values for k\n"
   ]
  },
  {
   "cell_type": "code",
   "execution_count": 19,
   "id": "c93eefd2",
   "metadata": {},
   "outputs": [],
   "source": [
    "knn6 = KNeighborsClassifier(6)\n",
    "knn3 = KNeighborsClassifier(3)"
   ]
  },
  {
   "cell_type": "code",
   "execution_count": 20,
   "id": "41362682",
   "metadata": {},
   "outputs": [],
   "source": [
    "X1_denoised_pca,y1_denoised_pca = denoise_by_pca(X1_train,y1_train,0.75)"
   ]
  },
  {
   "cell_type": "code",
   "execution_count": 21,
   "id": "9a76c2bf",
   "metadata": {},
   "outputs": [
    {
     "name": "stdout",
     "output_type": "stream",
     "text": [
      "knn6 score =  0.9555555555555556\n",
      "knn3 score =  0.9666666666666667\n"
     ]
    }
   ],
   "source": [
    "knn6.fit(X1_denoised_pca,y1_denoised_pca)\n",
    "knn3.fit(X1_denoised_pca,y1_denoised_pca)\n",
    "print('knn6 score = ',knn6.score(X1_test,y1_test))\n",
    "print('knn3 score = ',knn3.score(X1_test,y1_test))"
   ]
  },
  {
   "cell_type": "markdown",
   "id": "71b169b6",
   "metadata": {},
   "source": [
    "We havent found any better accuracy from the above the results of experimentation.\n",
    "\n",
    "### Hence the best chosen models for Synthetic data1 are Logistic Regression and KNeighbors classifier(5) with PCA based denoising ( p = 0.75) which give the accuracy of about 96.67%"
   ]
  },
  {
   "cell_type": "markdown",
   "id": "a15e1802",
   "metadata": {},
   "source": [
    "## For Iris Data"
   ]
  },
  {
   "cell_type": "code",
   "execution_count": 22,
   "id": "a5cee6fe",
   "metadata": {},
   "outputs": [
    {
     "name": "stdout",
     "output_type": "stream",
     "text": [
      "For  Iris Data :-\n",
      "\n",
      "\n",
      "Classifiers                             Before Denoising      knn-denoising xi =4\n",
      "Logistic Regression                        0.93333               0.93333\n",
      "KNeighbors classifier                      0.97778               0.95556\n",
      "SVM                                        0.97778               0.97778\n",
      "Random Forest                              0.91111               0.91111\n",
      "\n",
      "\n",
      "Classifiers                             Before Denoising      knn-denoising xi =3\n",
      "Logistic Regression                        0.93333               0.95556\n",
      "KNeighbors classifier                      0.97778               0.97778\n",
      "SVM                                        0.97778               0.95556\n",
      "Random Forest                              0.91111               0.91111\n",
      "\n",
      "\n"
     ]
    }
   ],
   "source": [
    "xi_values = [4,3]\n",
    "run_experiments(X2,y2,data_names[1],classifiers,classifier_names,\n",
    "                method='knn',parameters=xi_values)"
   ]
  },
  {
   "cell_type": "code",
   "execution_count": 23,
   "id": "b21eec0d",
   "metadata": {},
   "outputs": [
    {
     "name": "stdout",
     "output_type": "stream",
     "text": [
      "For  Iris Data :-\n",
      "\n",
      "\n",
      "Classifiers                             Before Denoising      knn-denoising xi =5\n",
      "Logistic Regression                        0.93333               0.93333\n",
      "KNeighbors classifier                      0.97778               0.95556\n",
      "SVM                                        0.97778               0.97778\n",
      "Random Forest                              0.91111               0.91111\n",
      "\n",
      "\n",
      "Classifiers                             Before Denoising      knn-denoising xi =4\n",
      "Logistic Regression                        0.93333               0.95556\n",
      "KNeighbors classifier                      0.97778               0.97778\n",
      "SVM                                        0.97778               0.97778\n",
      "Random Forest                              0.91111               0.91111\n",
      "\n",
      "\n"
     ]
    }
   ],
   "source": [
    "xi_values = [5,4]\n",
    "run_experiments(X2,y2,data_names[1],classifiers,classifier_names,\n",
    "                method='knn',parameters=xi_values,k=6)"
   ]
  },
  {
   "cell_type": "code",
   "execution_count": 24,
   "id": "07140d2f",
   "metadata": {},
   "outputs": [
    {
     "name": "stdout",
     "output_type": "stream",
     "text": [
      "For  Iris Data :-\n",
      "\n",
      "\n",
      "Classifiers                             Before Denoising      knn-denoising xi =2\n",
      "Logistic Regression                        0.93333               0.95556\n",
      "KNeighbors classifier                      0.97778               0.97778\n",
      "SVM                                        0.97778               0.95556\n",
      "Random Forest                              0.88889               0.93333\n",
      "\n",
      "\n"
     ]
    }
   ],
   "source": [
    "xi_values = [2]\n",
    "run_experiments(X2,y2,data_names[1],classifiers,classifier_names,\n",
    "                method='knn',parameters=xi_values,k=3)"
   ]
  },
  {
   "cell_type": "markdown",
   "id": "c65519fb",
   "metadata": {},
   "source": [
    "Here also we can see that the accuracies have not been affected by changing the k and xi values for denoising."
   ]
  },
  {
   "cell_type": "code",
   "execution_count": 25,
   "id": "a24a1264",
   "metadata": {},
   "outputs": [
    {
     "name": "stdout",
     "output_type": "stream",
     "text": [
      "For  Iris Data :-\n",
      "\n",
      "\n",
      "Classifiers                             Before Denoising      pca-denoising p=  0.75\n",
      "Logistic Regression                        0.93333               0.95556\n",
      "KNeighbors classifier                      0.97778               0.97778\n",
      "SVM                                        0.97778               0.97778\n",
      "Random Forest                              0.91111               0.91111\n",
      "\n",
      "\n",
      "Classifiers                             Before Denoising      pca-denoising p=  0.9\n",
      "Logistic Regression                        0.93333               0.95556\n",
      "KNeighbors classifier                      0.97778               0.97778\n",
      "SVM                                        0.97778               0.95556\n",
      "Random Forest                              0.91111               0.91111\n",
      "\n",
      "\n"
     ]
    }
   ],
   "source": [
    "p_values = [0.75,0.9]\n",
    "run_experiments(X2,y2,data_names[1],classifiers,classifier_names,\n",
    "                method='pca',parameters=p_values)"
   ]
  },
  {
   "cell_type": "markdown",
   "id": "421db3a5",
   "metadata": {},
   "source": [
    "For Iris data , we can see that here also only in 2 cases the accuracy went down a little bit. But in all other cases the accuracy improved or stayed the same.\n",
    "\n",
    "For Iris data , knn and pca denoising both gives accuracy of 97.78%. lets try if the hypertuning of parameters increases the accuracy by little. In Knn we can chose a different k and in SVM we can chose gamma and C values."
   ]
  },
  {
   "cell_type": "code",
   "execution_count": 26,
   "id": "c6eab8ed",
   "metadata": {},
   "outputs": [],
   "source": [
    "classifiers_iris = [KNeighborsClassifier(3),SVC(gamma=1,C=1),SVC(gamma=1,C=10)]\n",
    "classifier_iris_names = ['Knn(3)','SVM gamma=1,C=1','SVM gamma=1,C=10']"
   ]
  },
  {
   "cell_type": "code",
   "execution_count": 27,
   "id": "49fd3908",
   "metadata": {
    "scrolled": true
   },
   "outputs": [
    {
     "name": "stdout",
     "output_type": "stream",
     "text": [
      "For  Iris Data :-\n",
      "\n",
      "\n",
      "Classifiers                             Before Denoising      knn-denoising xi =2\n",
      "Knn(3)                                     0.95556               0.97778\n",
      "SVM gamma=1,C=1                            0.95556               0.95556\n",
      "SVM gamma=1,C=10                           0.97778               0.95556\n",
      "\n",
      "\n"
     ]
    }
   ],
   "source": [
    "run_experiments(X2,y2,data_names[1],classifiers_iris,classifier_iris_names,\n",
    "                method='knn',parameters=xi_values)"
   ]
  },
  {
   "cell_type": "code",
   "execution_count": 28,
   "id": "f91ba198",
   "metadata": {},
   "outputs": [
    {
     "name": "stdout",
     "output_type": "stream",
     "text": [
      "For  Iris Data :-\n",
      "\n",
      "\n",
      "Classifiers                             Before Denoising      pca-denoising p=  0.75\n",
      "Knn(3)                                     0.95556               0.97778\n",
      "SVM gamma=1,C=1                            0.95556               0.97778\n",
      "SVM gamma=1,C=10                           0.97778               0.91111\n",
      "\n",
      "\n",
      "Classifiers                             Before Denoising      pca-denoising p=  0.9\n",
      "Knn(3)                                     0.95556               0.95556\n",
      "SVM gamma=1,C=1                            0.95556               0.95556\n",
      "SVM gamma=1,C=10                           0.97778               0.95556\n",
      "\n",
      "\n"
     ]
    }
   ],
   "source": [
    "p_values = [0.75,0.9]\n",
    "run_experiments(X2,y2,data_names[1],classifiers_iris,classifier_iris_names,\n",
    "                method='pca',parameters=p_values)"
   ]
  },
  {
   "cell_type": "markdown",
   "id": "0bae68bf",
   "metadata": {},
   "source": [
    "There is no improvement in accuracy by hypertuning the classifiers. Here also 97.78% is the highest accuracy that any model can give. Also in the earlier results we did not see any improvement in accuracy the highest accuracy 97.78% was same before denoising. But in the results of hypertuning the classsifiers , we can see that before denoising accuracy improved slightly after denoising.\n",
    "\n",
    "### Hence for Iris Dataset , the best chosen models :-\n",
    "1. Knn - knn based denoising xi = 3\n",
    "2. Knn - pca based denoising p =  0.9\n",
    "3. SVM - knn based denoising xi = 4\n",
    "4. SVM - pca based denoising p = 0.75\n",
    "\n",
    "All the above models gives the same accuracy of 97.78%"
   ]
  },
  {
   "cell_type": "markdown",
   "id": "63a73e51",
   "metadata": {},
   "source": [
    "## For Wine Dataset"
   ]
  },
  {
   "cell_type": "code",
   "execution_count": 29,
   "id": "5732a178",
   "metadata": {},
   "outputs": [
    {
     "name": "stdout",
     "output_type": "stream",
     "text": [
      "For  Wine Data :-\n",
      "\n",
      "\n",
      "Classifiers                             Before Denoising      knn-denoising xi =4\n",
      "Logistic Regression                        0.96296               0.79630\n",
      "KNeighbors classifier                      0.72222               0.72222\n",
      "SVM                                        0.38889               0.33333\n",
      "Random Forest                              1.00000               0.96296\n",
      "\n",
      "\n",
      "Classifiers                             Before Denoising      knn-denoising xi =3\n",
      "Logistic Regression                        0.96296               0.81481\n",
      "KNeighbors classifier                      0.72222               0.74074\n",
      "SVM                                        0.38889               0.38889\n",
      "Random Forest                              1.00000               1.00000\n",
      "\n",
      "\n"
     ]
    }
   ],
   "source": [
    "xi_values = [4,3]\n",
    "run_experiments(X3,y3,data_names[2],classifiers,classifier_names,\n",
    "                method='knn',parameters=xi_values)"
   ]
  },
  {
   "cell_type": "code",
   "execution_count": 30,
   "id": "29bba4ea",
   "metadata": {},
   "outputs": [
    {
     "name": "stdout",
     "output_type": "stream",
     "text": [
      "For  Wine Data :-\n",
      "\n",
      "\n",
      "Classifiers                             Before Denoising      pca-denoising p=  0.75\n",
      "Logistic Regression                        0.96296               0.96296\n",
      "KNeighbors classifier                      0.72222               0.81481\n",
      "SVM                                        0.38889               0.38889\n",
      "Random Forest                              1.00000               1.00000\n",
      "\n",
      "\n",
      "Classifiers                             Before Denoising      pca-denoising p=  0.9\n",
      "Logistic Regression                        0.96296               0.96296\n",
      "KNeighbors classifier                      0.72222               0.75926\n",
      "SVM                                        0.38889               0.38889\n",
      "Random Forest                              1.00000               1.00000\n",
      "\n",
      "\n"
     ]
    }
   ],
   "source": [
    "p_values = [0.75,0.9]\n",
    "run_experiments(X3,y3,data_names[2],classifiers,classifier_names,\n",
    "                method='pca',parameters=p_values)"
   ]
  },
  {
   "cell_type": "markdown",
   "id": "f020e9bb",
   "metadata": {},
   "source": [
    "From the above results we can see that Random Forest classifier gives 100% accuracy for Wine data set even with denoising by knn. In the case of denoising based on knn, the accuracies have actually decreased by denoising. Whereas in the case of PCA based denoising , the accuracy has remained almost same or improved in certain cases. In the case of Knn we can see that PCA based denoising has improved the accuracy with a substantial amount."
   ]
  },
  {
   "cell_type": "markdown",
   "id": "95aa3d17",
   "metadata": {},
   "source": [
    "### We can chose the Random Forest Classifier for Wine data with knn based denoising and pca based denoising."
   ]
  },
  {
   "cell_type": "markdown",
   "id": "442d7b56",
   "metadata": {},
   "source": [
    "## Clustering and PCA denoising on Moon dataset"
   ]
  },
  {
   "cell_type": "code",
   "execution_count": 31,
   "id": "e95ffc83",
   "metadata": {},
   "outputs": [],
   "source": [
    "# Create the moon dataset\n",
    "X4,y4 = make_moons(noise=0.2,n_samples=400,random_state=12)"
   ]
  },
  {
   "cell_type": "code",
   "execution_count": 32,
   "id": "275cb3bc",
   "metadata": {},
   "outputs": [
    {
     "data": {
      "text/plain": [
       "<matplotlib.collections.PathCollection at 0x255be113280>"
      ]
     },
     "execution_count": 32,
     "metadata": {},
     "output_type": "execute_result"
    },
    {
     "data": {
      "image/png": "[encoded data removed]",
      "text/plain": [
       "<Figure size 432x288 with 1 Axes>"
      ]
     },
     "metadata": {
      "needs_background": "light"
     },
     "output_type": "display_data"
    }
   ],
   "source": [
    "plt.scatter(X4[y4==0,0],X4[y4==0,1])\n",
    "plt.scatter(X4[y4==1,0],X4[y4==1,1])"
   ]
  },
  {
   "cell_type": "code",
   "execution_count": 33,
   "id": "81c5889a",
   "metadata": {},
   "outputs": [
    {
     "data": {
      "image/png": "[encoded data removed]",
      "text/plain": [
       "<Figure size 432x288 with 1 Axes>"
      ]
     },
     "metadata": {
      "needs_background": "light"
     },
     "output_type": "display_data"
    }
   ],
   "source": [
    "dataCellipses(X4,y4,'Moon Dataset')"
   ]
  },
  {
   "cell_type": "markdown",
   "id": "f76bbb46",
   "metadata": {},
   "source": [
    "The above plot shows that MVEE does not make any sense in this case as reducing the p value will lose the data samples.\n",
    "So lets try to break there clusters into smaller clusters to see whether we can separate them well."
   ]
  },
  {
   "cell_type": "code",
   "execution_count": 34,
   "id": "b158bf62",
   "metadata": {},
   "outputs": [],
   "source": [
    "X4_trn,X4_tst,y4_trn,y4_tst = train_test_split(X4,y4,test_size=0.3,\n",
    "                                               random_state=42,stratify=y4)"
   ]
  },
  {
   "cell_type": "code",
   "execution_count": 35,
   "id": "b8dee52b",
   "metadata": {},
   "outputs": [
    {
     "data": {
      "text/html": [
       "<style>#sk-container-id-1 {color: black;background-color: white;}#sk-container-id-1 pre{padding: 0;}#sk-container-id-1 div.sk-toggleable {background-color: white;}#sk-container-id-1 label.sk-toggleable__label {cursor: pointer;display: block;width: 100%;margin-bottom: 0;padding: 0.3em;box-sizing: border-box;text-align: center;}#sk-container-id-1 label.sk-toggleable__label-arrow:before {content: \"▸\";float: left;margin-right: 0.25em;color: #696969;}#sk-container-id-1 label.sk-toggleable__label-arrow:hover:before {color: black;}#sk-container-id-1 div.sk-estimator:hover label.sk-toggleable__label-arrow:before {color: black;}#sk-container-id-1 div.sk-toggleable__content {max-height: 0;max-width: 0;overflow: hidden;text-align: left;background-color: #f0f8ff;}#sk-container-id-1 div.sk-toggleable__content pre {margin: 0.2em;color: black;border-radius: 0.25em;background-color: #f0f8ff;}#sk-container-id-1 input.sk-toggleable__control:checked~div.sk-toggleable__content {max-height: 200px;max-width: 100%;overflow: auto;}#sk-container-id-1 input.sk-toggleable__control:checked~label.sk-toggleable__label-arrow:before {content: \"▾\";}#sk-container-id-1 div.sk-estimator input.sk-toggleable__control:checked~label.sk-toggleable__label {background-color: #d4ebff;}#sk-container-id-1 div.sk-label input.sk-toggleable__control:checked~label.sk-toggleable__label {background-color: #d4ebff;}#sk-container-id-1 input.sk-hidden--visually {border: 0;clip: rect(1px 1px 1px 1px);clip: rect(1px, 1px, 1px, 1px);height: 1px;margin: -1px;overflow: hidden;padding: 0;position: absolute;width: 1px;}#sk-container-id-1 div.sk-estimator {font-family: monospace;background-color: #f0f8ff;border: 1px dotted black;border-radius: 0.25em;box-sizing: border-box;margin-bottom: 0.5em;}#sk-container-id-1 div.sk-estimator:hover {background-color: #d4ebff;}#sk-container-id-1 div.sk-parallel-item::after {content: \"\";width: 100%;border-bottom: 1px solid gray;flex-grow: 1;}#sk-container-id-1 div.sk-label:hover label.sk-toggleable__label {background-color: #d4ebff;}#sk-container-id-1 div.sk-serial::before {content: \"\";position: absolute;border-left: 1px solid gray;box-sizing: border-box;top: 0;bottom: 0;left: 50%;z-index: 0;}#sk-container-id-1 div.sk-serial {display: flex;flex-direction: column;align-items: center;background-color: white;padding-right: 0.2em;padding-left: 0.2em;position: relative;}#sk-container-id-1 div.sk-item {position: relative;z-index: 1;}#sk-container-id-1 div.sk-parallel {display: flex;align-items: stretch;justify-content: center;background-color: white;position: relative;}#sk-container-id-1 div.sk-item::before, #sk-container-id-1 div.sk-parallel-item::before {content: \"\";position: absolute;border-left: 1px solid gray;box-sizing: border-box;top: 0;bottom: 0;left: 50%;z-index: -1;}#sk-container-id-1 div.sk-parallel-item {display: flex;flex-direction: column;z-index: 1;position: relative;background-color: white;}#sk-container-id-1 div.sk-parallel-item:first-child::after {align-self: flex-end;width: 50%;}#sk-container-id-1 div.sk-parallel-item:last-child::after {align-self: flex-start;width: 50%;}#sk-container-id-1 div.sk-parallel-item:only-child::after {width: 0;}#sk-container-id-1 div.sk-dashed-wrapped {border: 1px dashed gray;margin: 0 0.4em 0.5em 0.4em;box-sizing: border-box;padding-bottom: 0.4em;background-color: white;}#sk-container-id-1 div.sk-label label {font-family: monospace;font-weight: bold;display: inline-block;line-height: 1.2em;}#sk-container-id-1 div.sk-label-container {text-align: center;}#sk-container-id-1 div.sk-container {/* jupyter's `normalize.less` sets `[hidden] { display: none; }` but bootstrap.min.css set `[hidden] { display: none !important; }` so we also need the `!important` here to be able to override the default hidden behavior on the sphinx rendered scikit-learn.org. See: https://github.com/scikit-learn/scikit-learn/issues/21755 */display: inline-block !important;position: relative;}#sk-container-id-1 div.sk-text-repr-fallback {display: none;}</style><div id=\"sk-container-id-1\" class=\"sk-top-container\"><div class=\"sk-text-repr-fallback\"><pre>RandomForestClassifier(max_depth=5, max_features=1, n_estimators=50)</pre><b>In a Jupyter environment, please rerun this cell to show the HTML representation or trust the notebook. <br />On GitHub, the HTML representation is unable to render, please try loading this page with nbviewer.org.</b></div><div class=\"sk-container\" hidden><div class=\"sk-item\"><div class=\"sk-estimator sk-toggleable\"><input class=\"sk-toggleable__control sk-hidden--visually\" id=\"sk-estimator-id-1\" type=\"checkbox\" checked><label for=\"sk-estimator-id-1\" class=\"sk-toggleable__label sk-toggleable__label-arrow\">RandomForestClassifier</label><div class=\"sk-toggleable__content\"><pre>RandomForestClassifier(max_depth=5, max_features=1, n_estimators=50)</pre></div></div></div></div></div>"
      ],
      "text/plain": [
       "RandomForestClassifier(max_depth=5, max_features=1, n_estimators=50)"
      ]
     },
     "execution_count": 35,
     "metadata": {},
     "output_type": "execute_result"
    }
   ],
   "source": [
    "# Accuracies before clustering and denoising\n",
    "lgr_X4 = LogisticRegression(max_iter=1000)\n",
    "knn_X4 = KNeighborsClassifier(5)\n",
    "svm_X4 = SVC(gamma=2,C=1)\n",
    "rfc_X4 = RandomForestClassifier(max_depth=5,n_estimators=50,max_features=1)\n",
    "\n",
    "lgr_X4.fit(X4_trn,y4_trn)\n",
    "knn_X4.fit(X4_trn,y4_trn)\n",
    "svm_X4.fit(X4_trn,y4_trn)\n",
    "rfc_X4.fit(X4_trn,y4_trn)"
   ]
  },
  {
   "cell_type": "code",
   "execution_count": 36,
   "id": "6d55de78",
   "metadata": {},
   "outputs": [
    {
     "data": {
      "text/plain": [
       "0.875"
      ]
     },
     "execution_count": 36,
     "metadata": {},
     "output_type": "execute_result"
    }
   ],
   "source": [
    "lgr_X4.score(X4_tst,y4_tst)"
   ]
  },
  {
   "cell_type": "code",
   "execution_count": 37,
   "id": "ac02c162",
   "metadata": {},
   "outputs": [
    {
     "data": {
      "text/plain": [
       "0.95"
      ]
     },
     "execution_count": 37,
     "metadata": {},
     "output_type": "execute_result"
    }
   ],
   "source": [
    "knn_X4.score(X4_tst,y4_tst)"
   ]
  },
  {
   "cell_type": "code",
   "execution_count": 38,
   "id": "e0f19566",
   "metadata": {},
   "outputs": [
    {
     "data": {
      "text/plain": [
       "0.95"
      ]
     },
     "execution_count": 38,
     "metadata": {},
     "output_type": "execute_result"
    }
   ],
   "source": [
    "svm_X4.score(X4_tst,y4_tst)"
   ]
  },
  {
   "cell_type": "code",
   "execution_count": 39,
   "id": "8df43499",
   "metadata": {},
   "outputs": [
    {
     "data": {
      "text/plain": [
       "0.9333333333333333"
      ]
     },
     "execution_count": 39,
     "metadata": {},
     "output_type": "execute_result"
    }
   ],
   "source": [
    "rfc_X4.score(X4_tst,y4_tst)"
   ]
  },
  {
   "cell_type": "markdown",
   "id": "d4bbfd21",
   "metadata": {},
   "source": [
    "The above accuracies are the accuracies for before clustering and denoising."
   ]
  },
  {
   "cell_type": "markdown",
   "id": "5936511c",
   "metadata": {},
   "source": [
    "## Clustering the dataset by Kmeans"
   ]
  },
  {
   "cell_type": "code",
   "execution_count": 40,
   "id": "0a3b9534",
   "metadata": {},
   "outputs": [
    {
     "name": "stderr",
     "output_type": "stream",
     "text": [
      "C:\\Users\\anupz\\anaconda3\\lib\\site-packages\\sklearn\\cluster\\_kmeans.py:1382: UserWarning: KMeans is known to have a memory leak on Windows with MKL, when there are less chunks than available threads. You can avoid it by setting the environment variable OMP_NUM_THREADS=1.\n",
      "  warnings.warn(\n",
      "C:\\Users\\anupz\\anaconda3\\lib\\site-packages\\sklearn\\cluster\\_kmeans.py:1382: UserWarning: KMeans is known to have a memory leak on Windows with MKL, when there are less chunks than available threads. You can avoid it by setting the environment variable OMP_NUM_THREADS=1.\n",
      "  warnings.warn(\n"
     ]
    }
   ],
   "source": [
    "Xc_0 = X4[y4==0]\n",
    "yc_0 = y4[y4==0]\n",
    "km_0 = KMeans(n_clusters=4,init='k-means++',n_init=10,\n",
    "              max_iter=300,tol=1e-04,random_state=0)\n",
    "y_km_0 = km_0.fit_predict(Xc_0)\n",
    "\n",
    "Xc_1 = X4[y4==1]\n",
    "yc_1 = y4[y4==1]\n",
    "km_1 = KMeans(n_clusters=4,init='k-means++',n_init=10,\n",
    "              max_iter=300,tol=1e-04,random_state=0)\n",
    "y_km_1 = km_1.fit_predict(Xc_1)\n",
    "y_km_1+=4"
   ]
  },
  {
   "cell_type": "code",
   "execution_count": 41,
   "id": "23ba40c5",
   "metadata": {},
   "outputs": [],
   "source": [
    "X4_clustered = np.vstack((Xc_0,Xc_1))\n",
    "y4_clustered = np.hstack((y_km_0,y_km_1))"
   ]
  },
  {
   "cell_type": "code",
   "execution_count": 59,
   "id": "83ffb516",
   "metadata": {
    "scrolled": true
   },
   "outputs": [
    {
     "data": {
      "image/png": "[encoded data removed]",
      "text/plain": [
       "<Figure size 432x288 with 1 Axes>"
      ]
     },
     "metadata": {
      "needs_background": "light"
     },
     "output_type": "display_data"
    }
   ],
   "source": [
    "plt.scatter(X4_clustered[y4_clustered==0,0],X4_clustered[y4_clustered==0,1])\n",
    "plt.scatter(X4_clustered[y4_clustered==1,0],X4_clustered[y4_clustered==1,1])\n",
    "plt.scatter(X4_clustered[y4_clustered==2,0],X4_clustered[y4_clustered==2,1])\n",
    "plt.scatter(X4_clustered[y4_clustered==3,0],X4_clustered[y4_clustered==3,1])\n",
    "plt.scatter(X4_clustered[y4_clustered==4,0],X4_clustered[y4_clustered==4,1])\n",
    "plt.scatter(X4_clustered[y4_clustered==5,0],X4_clustered[y4_clustered==5,1])\n",
    "plt.scatter(X4_clustered[y4_clustered==6,0],X4_clustered[y4_clustered==6,1])\n",
    "plt.scatter(X4_clustered[y4_clustered==7,0],X4_clustered[y4_clustered==7,1])\n",
    "plt.show()"
   ]
  },
  {
   "cell_type": "markdown",
   "id": "cb938fa5",
   "metadata": {},
   "source": [
    "Here we can see that the dataset in broken down to 8 small clusters."
   ]
  },
  {
   "cell_type": "code",
   "execution_count": 43,
   "id": "e13e0cd0",
   "metadata": {},
   "outputs": [
    {
     "data": {
      "image/png": "[encoded data removed]",
      "text/plain": [
       "<Figure size 432x288 with 1 Axes>"
      ]
     },
     "metadata": {
      "needs_background": "light"
     },
     "output_type": "display_data"
    }
   ],
   "source": [
    "COLOR =['gray','brown','orangered','saddlebrown','darkgoldenrod',\n",
    "        'yellow','lawngreen','darkgreen','cyan','magenta',\n",
    "        'cornflowerblue','navy','blueviolet','deeppink','crimson']\n",
    "dataCellipses(X4_clustered,y4_clustered,'clustered Moon dataset')"
   ]
  },
  {
   "cell_type": "markdown",
   "id": "42c6362b",
   "metadata": {},
   "source": [
    "Here we have created smaller clusters . But we still see a lot of overlapping regions. Lets try to denoise the dataset."
   ]
  },
  {
   "cell_type": "code",
   "execution_count": 44,
   "id": "a84b7d81",
   "metadata": {},
   "outputs": [],
   "source": [
    "X4_train,X4_test,y4_train,y4_test = train_test_split(X4_clustered,y4_clustered,\n",
    "                                                     test_size=0.3,random_state=42,\n",
    "                                                     stratify=y4_clustered)"
   ]
  },
  {
   "cell_type": "code",
   "execution_count": 45,
   "id": "69592fa9",
   "metadata": {},
   "outputs": [],
   "source": [
    "X4_denoised_pca,y4_denoised_pca = denoise_by_pca(X4_train,y4_train,0.9)"
   ]
  },
  {
   "cell_type": "code",
   "execution_count": 46,
   "id": "d1b620b7",
   "metadata": {},
   "outputs": [
    {
     "data": {
      "text/plain": [
       "<matplotlib.collections.PathCollection at 0x255be373bb0>"
      ]
     },
     "execution_count": 46,
     "metadata": {},
     "output_type": "execute_result"
    },
    {
     "data": {
      "image/png": "[encoded data removed]",
      "text/plain": [
       "<Figure size 432x288 with 1 Axes>"
      ]
     },
     "metadata": {
      "needs_background": "light"
     },
     "output_type": "display_data"
    }
   ],
   "source": [
    "plt.scatter(X4_denoised_pca[y4_denoised_pca==0,0],X4_denoised_pca[y4_denoised_pca==0,1])\n",
    "plt.scatter(X4_denoised_pca[y4_denoised_pca==1,0],X4_denoised_pca[y4_denoised_pca==1,1])\n",
    "plt.scatter(X4_denoised_pca[y4_denoised_pca==2,0],X4_denoised_pca[y4_denoised_pca==2,1])\n",
    "plt.scatter(X4_denoised_pca[y4_denoised_pca==3,0],X4_denoised_pca[y4_denoised_pca==3,1])\n",
    "plt.scatter(X4_denoised_pca[y4_denoised_pca==4,0],X4_denoised_pca[y4_denoised_pca==4,1])\n",
    "plt.scatter(X4_denoised_pca[y4_denoised_pca==5,0],X4_denoised_pca[y4_denoised_pca==5,1])\n",
    "plt.scatter(X4_denoised_pca[y4_denoised_pca==6,0],X4_denoised_pca[y4_denoised_pca==6,1])\n",
    "plt.scatter(X4_denoised_pca[y4_denoised_pca==7,0],X4_denoised_pca[y4_denoised_pca==7,1])"
   ]
  },
  {
   "cell_type": "markdown",
   "id": "ea05b299",
   "metadata": {},
   "source": [
    "The above plot shows the clustered and denoised training data set. The clusters look well separated now."
   ]
  },
  {
   "cell_type": "code",
   "execution_count": 47,
   "id": "36fe53ad",
   "metadata": {
    "scrolled": true
   },
   "outputs": [
    {
     "data": {
      "image/png": "[encoded data removed]",
      "text/plain": [
       "<Figure size 432x288 with 1 Axes>"
      ]
     },
     "metadata": {
      "needs_background": "light"
     },
     "output_type": "display_data"
    }
   ],
   "source": [
    "dataCellipses(X4_denoised_pca,y4_denoised_pca,'Moondata Denoised by pca')"
   ]
  },
  {
   "cell_type": "markdown",
   "id": "d17490b5",
   "metadata": {},
   "source": [
    "Now we can see that the clusters are well separated by clustering and denoising. The overlapping of regions has reduced to very less."
   ]
  },
  {
   "cell_type": "code",
   "execution_count": 48,
   "id": "b4d599ba",
   "metadata": {},
   "outputs": [
    {
     "name": "stdout",
     "output_type": "stream",
     "text": [
      "For  Moon Data :-\n",
      "\n",
      "\n",
      "Classifiers                             Before Denoising      pca-denoising p=  0.5\n",
      "Logistic Regression                        0.91667               0.89167\n",
      "KNeighbors classifier                      0.97500               0.95000\n",
      "SVM                                        0.95833               0.92500\n",
      "Random Forest                              0.90833               0.86667\n",
      "\n",
      "\n",
      "Classifiers                             Before Denoising      pca-denoising p=  0.6\n",
      "Logistic Regression                        0.91667               0.89167\n",
      "KNeighbors classifier                      0.97500               0.91667\n",
      "SVM                                        0.95833               0.92500\n",
      "Random Forest                              0.90833               0.90000\n",
      "\n",
      "\n",
      "Classifiers                             Before Denoising      pca-denoising p=  0.7\n",
      "Logistic Regression                        0.91667               0.90000\n",
      "KNeighbors classifier                      0.97500               0.94167\n",
      "SVM                                        0.95833               0.92500\n",
      "Random Forest                              0.90833               0.90000\n",
      "\n",
      "\n",
      "Classifiers                             Before Denoising      pca-denoising p=  0.8\n",
      "Logistic Regression                        0.91667               0.90000\n",
      "KNeighbors classifier                      0.97500               0.95833\n",
      "SVM                                        0.95833               0.95000\n",
      "Random Forest                              0.90833               0.89167\n",
      "\n",
      "\n",
      "Classifiers                             Before Denoising      pca-denoising p=  0.9\n",
      "Logistic Regression                        0.91667               0.90833\n",
      "KNeighbors classifier                      0.97500               0.96667\n",
      "SVM                                        0.95833               0.95833\n",
      "Random Forest                              0.90833               0.93333\n",
      "\n",
      "\n",
      "Classifiers                             Before Denoising      pca-denoising p=  0.95\n",
      "Logistic Regression                        0.91667               0.90833\n",
      "KNeighbors classifier                      0.97500               0.96667\n",
      "SVM                                        0.95833               0.95833\n",
      "Random Forest                              0.90833               0.93333\n",
      "\n",
      "\n",
      "Classifiers                             Before Denoising      pca-denoising p=  0.99\n",
      "Logistic Regression                        0.91667               0.91667\n",
      "KNeighbors classifier                      0.97500               0.97500\n",
      "SVM                                        0.95833               0.95833\n",
      "Random Forest                              0.90833               0.91667\n",
      "\n",
      "\n"
     ]
    }
   ],
   "source": [
    "p_values_moon = [0.5,0.6,0.7,0.8,0.9,0.95,0.99]\n",
    "run_experiments(X4_clustered,y4_clustered,\"Moon Data\",classifiers,\n",
    "                classifier_names,method='pca',parameters=p_values_moon)"
   ]
  },
  {
   "cell_type": "markdown",
   "id": "f0ee1ba5",
   "metadata": {},
   "source": [
    "We can see that the accuracies have reduced slightly by clustering and denoising. Only in the case of Pca based denoising where p =0.9 and above , the accuracy has improved for RandomForest Classifier.\n",
    "\n",
    "A general trend observed from the above results is that as the value of p gets closer to 1, the accuracies of the models are increasing. One reason for it might be because we keep adding more data which was important."
   ]
  },
  {
   "cell_type": "markdown",
   "id": "c5654600",
   "metadata": {},
   "source": [
    "### Since the datasets we chose until now are already well trimmed datasets , it is possible that the improvement of the accuracy after denoising is not much. Lets try to add additional noise to the data to see if we can find any substantial improvemnt in the accuracy."
   ]
  },
  {
   "cell_type": "code",
   "execution_count": 49,
   "id": "23aadf68",
   "metadata": {},
   "outputs": [],
   "source": [
    "# Lets write a function to add more noise to dataset\n",
    "\n",
    "def Perturb(X,sigma):\n",
    "    rgen = np.random.RandomState(None)\n",
    "    noise = rgen.normal(0,sigma,X.shape)\n",
    "    X_p = X+noise\n",
    "    \n",
    "    return X_p"
   ]
  },
  {
   "cell_type": "code",
   "execution_count": 50,
   "id": "a219a70c",
   "metadata": {},
   "outputs": [],
   "source": [
    "X1_Perturbed = Perturb(X1,0.8)"
   ]
  },
  {
   "cell_type": "code",
   "execution_count": 51,
   "id": "df71c5dc",
   "metadata": {},
   "outputs": [
    {
     "data": {
      "image/png": "[encoded data removed]",
      "text/plain": [
       "<Figure size 720x288 with 2 Axes>"
      ]
     },
     "metadata": {
      "needs_background": "light"
     },
     "output_type": "display_data"
    }
   ],
   "source": [
    "\n",
    "fig,ax = plt.subplots(nrows=1,ncols=2,figsize=(10,4))\n",
    "\n",
    "    \n",
    "ax[0].scatter(X1[y1==0,0],X1[y1==0,1])\n",
    "ax[0].scatter(X1[y1==1,0],X1[y1==1,1])\n",
    "ax[0].scatter(X1[y1==2,0],X1[y1==2,1])\n",
    "ax[0].set_title('Original Synthetic data1')\n",
    "\n",
    "ax[1].scatter(X1_Perturbed[y1==0,0],X1_Perturbed[y1==0,1])\n",
    "ax[1].scatter(X1_Perturbed[y1==1,0],X1_Perturbed[y1==1,1])\n",
    "ax[1].scatter(X1_Perturbed[y1==2,0],X1_Perturbed[y1==2,1])\n",
    "ax[1].set_title('Perturbed dataset')\n",
    "\n",
    "plt.show()"
   ]
  },
  {
   "cell_type": "code",
   "execution_count": 52,
   "id": "638376d1",
   "metadata": {},
   "outputs": [
    {
     "name": "stdout",
     "output_type": "stream",
     "text": [
      "For  Perturbed Synthetic data :-\n",
      "\n",
      "\n",
      "Classifiers                             Before Denoising      knn-denoising xi =4\n",
      "Logistic Regression                        0.93333               0.93333\n",
      "KNeighbors classifier                      0.93333               0.92222\n",
      "SVM                                        0.84444               0.85556\n",
      "Random Forest                              0.92222               0.91111\n",
      "\n",
      "\n",
      "Classifiers                             Before Denoising      knn-denoising xi =3\n",
      "Logistic Regression                        0.93333               0.92222\n",
      "KNeighbors classifier                      0.93333               0.92222\n",
      "SVM                                        0.84444               0.87778\n",
      "Random Forest                              0.92222               0.90000\n",
      "\n",
      "\n"
     ]
    }
   ],
   "source": [
    "xi_values = [4,3]\n",
    "run_experiments(X1_Perturbed,y1,'Perturbed Synthetic data',classifiers,\n",
    "                classifier_names,method='knn',parameters=xi_values)"
   ]
  },
  {
   "cell_type": "code",
   "execution_count": 60,
   "id": "59037438",
   "metadata": {},
   "outputs": [
    {
     "name": "stdout",
     "output_type": "stream",
     "text": [
      "For  Perturbed Synthetic data :-\n",
      "\n",
      "\n",
      "Classifiers                             Before Denoising      pca-denoising p=  0.75\n",
      "Logistic Regression                        0.93333               0.93333\n",
      "KNeighbors classifier                      0.93333               0.92222\n",
      "SVM                                        0.84444               0.88889\n",
      "Random Forest                              0.92222               0.92222\n",
      "\n",
      "\n",
      "Classifiers                             Before Denoising      pca-denoising p=  0.9\n",
      "Logistic Regression                        0.93333               0.91111\n",
      "KNeighbors classifier                      0.93333               0.92222\n",
      "SVM                                        0.84444               0.86667\n",
      "Random Forest                              0.92222               0.87778\n",
      "\n",
      "\n"
     ]
    }
   ],
   "source": [
    "p_values = [0.75,0.9]\n",
    "run_experiments(X1_Perturbed,y1,'Perturbed Synthetic data',classifiers,\n",
    "                classifier_names,method='pca',parameters=p_values)"
   ]
  },
  {
   "cell_type": "markdown",
   "id": "f010da70",
   "metadata": {},
   "source": [
    "For the Synthetic data set, we can see that the improvemnt in accuracy is shown in the case of SVM. Other classifier accuracies have remained same or slighly reduced."
   ]
  },
  {
   "cell_type": "code",
   "execution_count": 54,
   "id": "88b603b1",
   "metadata": {},
   "outputs": [],
   "source": [
    "X2_Perturbed = Perturb(X2,0.2)"
   ]
  },
  {
   "cell_type": "code",
   "execution_count": 55,
   "id": "6f75ba7e",
   "metadata": {},
   "outputs": [
    {
     "name": "stdout",
     "output_type": "stream",
     "text": [
      "For  Perturbed Iris data :-\n",
      "\n",
      "\n",
      "Classifiers                             Before Denoising      knn-denoising xi =4\n",
      "Logistic Regression                        0.86667               0.86667\n",
      "KNeighbors classifier                      0.88889               0.91111\n",
      "SVM                                        0.86667               0.86667\n",
      "Random Forest                              0.86667               0.88889\n",
      "\n",
      "\n",
      "Classifiers                             Before Denoising      knn-denoising xi =3\n",
      "Logistic Regression                        0.86667               0.88889\n",
      "KNeighbors classifier                      0.88889               0.91111\n",
      "SVM                                        0.86667               0.86667\n",
      "Random Forest                              0.86667               0.88889\n",
      "\n",
      "\n"
     ]
    }
   ],
   "source": [
    "xi_values = [4,3]\n",
    "run_experiments(X2_Perturbed,y2,'Perturbed Iris data',classifiers,\n",
    "                classifier_names,method='knn',parameters=xi_values)"
   ]
  },
  {
   "cell_type": "code",
   "execution_count": 56,
   "id": "f315d783",
   "metadata": {},
   "outputs": [
    {
     "name": "stdout",
     "output_type": "stream",
     "text": [
      "For  Perturbed Iris data :-\n",
      "\n",
      "\n",
      "Classifiers                             Before Denoising      pca-denoising p=  0.75\n",
      "Logistic Regression                        0.86667               0.86667\n",
      "KNeighbors classifier                      0.88889               0.91111\n",
      "SVM                                        0.86667               0.86667\n",
      "Random Forest                              0.84444               0.88889\n",
      "\n",
      "\n",
      "Classifiers                             Before Denoising      pca-denoising p=  0.9\n",
      "Logistic Regression                        0.86667               0.88889\n",
      "KNeighbors classifier                      0.88889               0.88889\n",
      "SVM                                        0.86667               0.86667\n",
      "Random Forest                              0.84444               0.84444\n",
      "\n",
      "\n"
     ]
    }
   ],
   "source": [
    "p_values = [0.75,0.9]\n",
    "run_experiments(X2_Perturbed,y2,'Perturbed Iris data',classifiers,\n",
    "                classifier_names,method='pca',parameters=p_values)"
   ]
  },
  {
   "cell_type": "markdown",
   "id": "18aca9d3",
   "metadata": {},
   "source": [
    "For Iris Dataset, we can see better improvement in accuracies in almost all classifiers."
   ]
  },
  {
   "cell_type": "markdown",
   "id": "067d18ae",
   "metadata": {},
   "source": [
    "### Thus, we can say that denoising makes the data shape better by separating the clusters well and improving the accuracies slightly."
   ]
  }
 ],
 "metadata": {
  "kernelspec": {
   "display_name": "Python 3 (ipykernel)",
   "language": "python",
   "name": "python3"
  },
  "language_info": {
   "codemirror_mode": {
    "name": "ipython",
    "version": 3
   },
   "file_extension": ".py",
   "mimetype": "text/x-python",
   "name": "python",
   "nbconvert_exporter": "python",
   "pygments_lexer": "ipython3",
   "version": "3.9.7"
  }
 },
 "nbformat": 4,
 "nbformat_minor": 5
}
